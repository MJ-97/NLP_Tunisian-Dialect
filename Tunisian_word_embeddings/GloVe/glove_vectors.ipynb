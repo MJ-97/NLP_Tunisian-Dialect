{
 "cells": [
  {
   "cell_type": "code",
   "execution_count": null,
   "metadata": {
    "colab": {
     "base_uri": "https://localhost:8080/",
     "height": 245
    },
    "colab_type": "code",
    "id": "ckTt0F8VK2j2",
    "outputId": "37ae73f8-dde3-48e0-edb1-0c74a67c2bec"
   },
   "outputs": [
    {
     "name": "stdout",
     "output_type": "stream",
     "text": [
      "Collecting glove_python\n",
      "\u001b[?25l  Downloading https://files.pythonhosted.org/packages/3e/79/7e7e548dd9dcb741935d031117f4bed133276c2a047aadad42f1552d1771/glove_python-0.1.0.tar.gz (263kB)\n",
      "\r",
      "\u001b[K     |█▎                              | 10kB 17.1MB/s eta 0:00:01\r",
      "\u001b[K     |██▌                             | 20kB 1.7MB/s eta 0:00:01\r",
      "\u001b[K     |███▊                            | 30kB 2.2MB/s eta 0:00:01\r",
      "\u001b[K     |█████                           | 40kB 2.5MB/s eta 0:00:01\r",
      "\u001b[K     |██████▎                         | 51kB 2.0MB/s eta 0:00:01\r",
      "\u001b[K     |███████▌                        | 61kB 2.2MB/s eta 0:00:01\r",
      "\u001b[K     |████████▊                       | 71kB 2.4MB/s eta 0:00:01\r",
      "\u001b[K     |██████████                      | 81kB 2.7MB/s eta 0:00:01\r",
      "\u001b[K     |███████████▏                    | 92kB 2.8MB/s eta 0:00:01\r",
      "\u001b[K     |████████████▌                   | 102kB 2.7MB/s eta 0:00:01\r",
      "\u001b[K     |█████████████▊                  | 112kB 2.7MB/s eta 0:00:01\r",
      "\u001b[K     |███████████████                 | 122kB 2.7MB/s eta 0:00:01\r",
      "\u001b[K     |████████████████▏               | 133kB 2.7MB/s eta 0:00:01\r",
      "\u001b[K     |█████████████████▍              | 143kB 2.7MB/s eta 0:00:01\r",
      "\u001b[K     |██████████████████▊             | 153kB 2.7MB/s eta 0:00:01\r",
      "\u001b[K     |████████████████████            | 163kB 2.7MB/s eta 0:00:01\r",
      "\u001b[K     |█████████████████████▏          | 174kB 2.7MB/s eta 0:00:01\r",
      "\u001b[K     |██████████████████████▍         | 184kB 2.7MB/s eta 0:00:01\r",
      "\u001b[K     |███████████████████████▋        | 194kB 2.7MB/s eta 0:00:01\r",
      "\u001b[K     |█████████████████████████       | 204kB 2.7MB/s eta 0:00:01\r",
      "\u001b[K     |██████████████████████████▏     | 215kB 2.7MB/s eta 0:00:01\r",
      "\u001b[K     |███████████████████████████▍    | 225kB 2.7MB/s eta 0:00:01\r",
      "\u001b[K     |████████████████████████████▋   | 235kB 2.7MB/s eta 0:00:01\r",
      "\u001b[K     |█████████████████████████████▉  | 245kB 2.7MB/s eta 0:00:01\r",
      "\u001b[K     |███████████████████████████████▏| 256kB 2.7MB/s eta 0:00:01\r",
      "\u001b[K     |████████████████████████████████| 266kB 2.7MB/s \n",
      "\u001b[?25hRequirement already satisfied: numpy in /usr/local/lib/python3.6/dist-packages (from glove_python) (1.18.5)\n",
      "Requirement already satisfied: scipy in /usr/local/lib/python3.6/dist-packages (from glove_python) (1.4.1)\n",
      "Building wheels for collected packages: glove-python\n",
      "  Building wheel for glove-python (setup.py) ... \u001b[?25l\u001b[?25hdone\n",
      "  Created wheel for glove-python: filename=glove_python-0.1.0-cp36-cp36m-linux_x86_64.whl size=700244 sha256=9ec7da82a3c7614114d801dfd28305b64654e45e3a4476cf509889bd488fd83a\n",
      "  Stored in directory: /root/.cache/pip/wheels/88/4b/6d/10c0d2ad32c9d9d68beec9694a6f0b6e83ab1662a90a089a4b\n",
      "Successfully built glove-python\n",
      "Installing collected packages: glove-python\n",
      "Successfully installed glove-python-0.1.0\n"
     ]
    }
   ],
   "source": [
    "! pip install glove_python\n"
   ]
  },
  {
   "cell_type": "code",
   "execution_count": null,
   "metadata": {
    "colab": {},
    "colab_type": "code",
    "id": "sA6lfo8lEkFH"
   },
   "outputs": [],
   "source": []
  },
  {
   "cell_type": "code",
   "execution_count": null,
   "metadata": {
    "colab": {
     "base_uri": "https://localhost:8080/",
     "height": 124
    },
    "colab_type": "code",
    "id": "SI2IsUZBEnct",
    "outputId": "f12c622f-6f5b-450d-f114-88a5e640a272"
   },
   "outputs": [],
   "source": [
    "#from google.colab import drive\n",
    "#drive.mount('/content/drive')"
   ]
  },
  {
   "cell_type": "code",
   "execution_count": null,
   "metadata": {
    "colab": {},
    "colab_type": "code",
    "id": "kq63enmcH0Qc"
   },
   "outputs": [],
   "source": [
    "import re\n",
    "import pandas as pd\n",
    "import numpy as np\n",
    "from time import time\n",
    "import gensim \n",
    "from gensim.models import Word2Vec "
   ]
  },
  {
   "cell_type": "code",
   "execution_count": null,
   "metadata": {
    "colab": {},
    "colab_type": "code",
    "id": "OOoPQgElLjBr"
   },
   "outputs": [],
   "source": [
    "from glove import Glove, Corpus\n"
   ]
  },
  {
   "cell_type": "code",
   "execution_count": null,
   "metadata": {
    "colab": {
     "base_uri": "https://localhost:8080/",
     "height": 244
    },
    "colab_type": "code",
    "id": "tC_q_VtHHkRc",
    "outputId": "06d886c7-a09b-4c85-8a7d-053ecf1338ea"
   },
   "outputs": [
    {
     "name": "stderr",
     "output_type": "stream",
     "text": [
      "b'Skipping line 29: expected 1 fields, saw 2\\nSkipping line 259: expected 1 fields, saw 2\\nSkipping line 6339: expected 1 fields, saw 2\\nSkipping line 6341: expected 1 fields, saw 2\\nSkipping line 6342: expected 1 fields, saw 2\\nSkipping line 6636: expected 1 fields, saw 2\\nSkipping line 7431: expected 1 fields, saw 2\\nSkipping line 7536: expected 1 fields, saw 2\\nSkipping line 7537: expected 1 fields, saw 2\\nSkipping line 7687: expected 1 fields, saw 2\\nSkipping line 7917: expected 1 fields, saw 2\\nSkipping line 8387: expected 1 fields, saw 2\\nSkipping line 8972: expected 1 fields, saw 2\\nSkipping line 9963: expected 1 fields, saw 2\\nSkipping line 13698: expected 1 fields, saw 2\\nSkipping line 13703: expected 1 fields, saw 2\\nSkipping line 14709: expected 1 fields, saw 2\\nSkipping line 14812: expected 1 fields, saw 2\\nSkipping line 14847: expected 1 fields, saw 2\\nSkipping line 14879: expected 1 fields, saw 2\\nSkipping line 15018: expected 1 fields, saw 2\\nSkipping line 15036: expected 1 fields, saw 2\\nSkipping line 15037: expected 1 fields, saw 2\\nSkipping line 15038: expected 1 fields, saw 2\\nSkipping line 15039: expected 1 fields, saw 2\\nSkipping line 15040: expected 1 fields, saw 2\\nSkipping line 15041: expected 1 fields, saw 2\\nSkipping line 15141: expected 1 fields, saw 2\\nSkipping line 15281: expected 1 fields, saw 2\\nSkipping line 19700: expected 1 fields, saw 2\\nSkipping line 21762: expected 1 fields, saw 2\\nSkipping line 22671: expected 1 fields, saw 2\\nSkipping line 24584: expected 1 fields, saw 2\\nSkipping line 24811: expected 1 fields, saw 2\\nSkipping line 26345: expected 1 fields, saw 2\\nSkipping line 27988: expected 1 fields, saw 2\\nSkipping line 30031: expected 1 fields, saw 2\\nSkipping line 30039: expected 1 fields, saw 2\\nSkipping line 30122: expected 1 fields, saw 2\\nSkipping line 30322: expected 1 fields, saw 2\\nSkipping line 30392: expected 1 fields, saw 2\\nSkipping line 30713: expected 1 fields, saw 2\\nSkipping line 30823: expected 1 fields, saw 2\\nSkipping line 30858: expected 1 fields, saw 2\\nSkipping line 30907: expected 1 fields, saw 2\\nSkipping line 31029: expected 1 fields, saw 2\\nSkipping line 31421: expected 1 fields, saw 2\\nSkipping line 31471: expected 1 fields, saw 2\\nSkipping line 32051: expected 1 fields, saw 2\\nSkipping line 32064: expected 1 fields, saw 2\\nSkipping line 32446: expected 1 fields, saw 2\\nSkipping line 34600: expected 1 fields, saw 2\\nSkipping line 35075: expected 1 fields, saw 2\\nSkipping line 35158: expected 1 fields, saw 2\\nSkipping line 35225: expected 1 fields, saw 2\\nSkipping line 35340: expected 1 fields, saw 2\\nSkipping line 35479: expected 1 fields, saw 2\\nSkipping line 35542: expected 1 fields, saw 2\\nSkipping line 35596: expected 1 fields, saw 2\\nSkipping line 35621: expected 1 fields, saw 2\\nSkipping line 35678: expected 1 fields, saw 2\\nSkipping line 35884: expected 1 fields, saw 2\\nSkipping line 36060: expected 1 fields, saw 2\\nSkipping line 36065: expected 1 fields, saw 4\\nSkipping line 36083: expected 1 fields, saw 2\\nSkipping line 36174: expected 1 fields, saw 2\\nSkipping line 36353: expected 1 fields, saw 2\\nSkipping line 36354: expected 1 fields, saw 2\\nSkipping line 36362: expected 1 fields, saw 2\\nSkipping line 36365: expected 1 fields, saw 2\\nSkipping line 36461: expected 1 fields, saw 2\\nSkipping line 36539: expected 1 fields, saw 2\\nSkipping line 36815: expected 1 fields, saw 2\\nSkipping line 37095: expected 1 fields, saw 2\\nSkipping line 37267: expected 1 fields, saw 2\\nSkipping line 37273: expected 1 fields, saw 2\\nSkipping line 37341: expected 1 fields, saw 2\\nSkipping line 37415: expected 1 fields, saw 2\\nSkipping line 37481: expected 1 fields, saw 2\\nSkipping line 37603: expected 1 fields, saw 2\\nSkipping line 37709: expected 1 fields, saw 2\\nSkipping line 37906: expected 1 fields, saw 2\\nSkipping line 37976: expected 1 fields, saw 2\\nSkipping line 38259: expected 1 fields, saw 2\\nSkipping line 38305: expected 1 fields, saw 2\\nSkipping line 38744: expected 1 fields, saw 2\\nSkipping line 39619: expected 1 fields, saw 2\\nSkipping line 39620: expected 1 fields, saw 2\\nSkipping line 39779: expected 1 fields, saw 2\\nSkipping line 39896: expected 1 fields, saw 2\\nSkipping line 40272: expected 1 fields, saw 2\\nSkipping line 40376: expected 1 fields, saw 2\\nSkipping line 40449: expected 1 fields, saw 2\\nSkipping line 40513: expected 1 fields, saw 2\\nSkipping line 40637: expected 1 fields, saw 2\\nSkipping line 40757: expected 1 fields, saw 2\\nSkipping line 40810: expected 1 fields, saw 2\\nSkipping line 41157: expected 1 fields, saw 2\\nSkipping line 41220: expected 1 fields, saw 2\\nSkipping line 41475: expected 1 fields, saw 2\\nSkipping line 41899: expected 1 fields, saw 2\\nSkipping line 42134: expected 1 fields, saw 2\\nSkipping line 42464: expected 1 fields, saw 2\\nSkipping line 42545: expected 1 fields, saw 2\\nSkipping line 42978: expected 1 fields, saw 2\\nSkipping line 45645: expected 1 fields, saw 2\\nSkipping line 49046: expected 1 fields, saw 2\\nSkipping line 52096: expected 1 fields, saw 2\\nSkipping line 52639: expected 1 fields, saw 2\\n'\n"
     ]
    },
    {
     "data": {
      "text/html": [
       "<div>\n",
       "<style scoped>\n",
       "    .dataframe tbody tr th:only-of-type {\n",
       "        vertical-align: middle;\n",
       "    }\n",
       "\n",
       "    .dataframe tbody tr th {\n",
       "        vertical-align: top;\n",
       "    }\n",
       "\n",
       "    .dataframe thead th {\n",
       "        text-align: right;\n",
       "    }\n",
       "</style>\n",
       "<table border=\"1\" class=\"dataframe\">\n",
       "  <thead>\n",
       "    <tr style=\"text-align: right;\">\n",
       "      <th></th>\n",
       "      <th>text</th>\n",
       "    </tr>\n",
       "  </thead>\n",
       "  <tbody>\n",
       "    <tr>\n",
       "      <th>0</th>\n",
       "      <td>يا سيدي علي عيشوشه واله تمثل مليح وتمثيلها مقنع</td>\n",
       "    </tr>\n",
       "    <tr>\n",
       "      <th>1</th>\n",
       "      <td>امنه تصلح وزيره مراه عالاقل تعطي منظر باهي لتو...</td>\n",
       "    </tr>\n",
       "    <tr>\n",
       "      <th>2</th>\n",
       "      <td>حنان الشقراني احسن</td>\n",
       "    </tr>\n",
       "    <tr>\n",
       "      <th>3</th>\n",
       "      <td>بري روحي</td>\n",
       "    </tr>\n",
       "    <tr>\n",
       "      <th>4</th>\n",
       "      <td>معلم يا لطفي</td>\n",
       "    </tr>\n",
       "  </tbody>\n",
       "</table>\n",
       "</div>"
      ],
      "text/plain": [
       "                                                text\n",
       "0    يا سيدي علي عيشوشه واله تمثل مليح وتمثيلها مقنع\n",
       "1  امنه تصلح وزيره مراه عالاقل تعطي منظر باهي لتو...\n",
       "2                                 حنان الشقراني احسن\n",
       "3                                           بري روحي\n",
       "4                                       معلم يا لطفي"
      ]
     },
     "execution_count": 6,
     "metadata": {
      "tags": []
     },
     "output_type": "execute_result"
    }
   ],
   "source": [
    "data = pd.read_csv(\"/home/mahmoud/Desktop/Tunisian Dialect Language Model TDLM/corpus/corpus.txt\",sep='\\n',header=None,error_bad_lines=False)\n",
    "data.columns = [\"text\"]\n",
    "data.head()\n"
   ]
  },
  {
   "cell_type": "code",
   "execution_count": null,
   "metadata": {
    "colab": {},
    "colab_type": "code",
    "id": "EDU385OV9Mvo"
   },
   "outputs": [],
   "source": [
    "def count_tokens(row):\n",
    "    return len(row.split())\n",
    "\n",
    "data[\"text\"]  = data[\"text\"].apply(str)\n",
    "data[\"text\"]  = data[\"text\"].apply(str.strip)\n",
    "\n",
    "data[\"Number_of_tokens\"]  = data[\"text\"].apply(count_tokens)"
   ]
  },
  {
   "cell_type": "code",
   "execution_count": null,
   "metadata": {
    "colab": {
     "base_uri": "https://localhost:8080/",
     "height": 81
    },
    "colab_type": "code",
    "id": "UCPrDPKn9bNq",
    "outputId": "743a0ad2-577f-4050-88c6-91bdb0f8fbe0"
   },
   "outputs": [
    {
     "data": {
      "text/html": [
       "<div>\n",
       "<style scoped>\n",
       "    .dataframe tbody tr th:only-of-type {\n",
       "        vertical-align: middle;\n",
       "    }\n",
       "\n",
       "    .dataframe tbody tr th {\n",
       "        vertical-align: top;\n",
       "    }\n",
       "\n",
       "    .dataframe thead th {\n",
       "        text-align: right;\n",
       "    }\n",
       "</style>\n",
       "<table border=\"1\" class=\"dataframe\">\n",
       "  <thead>\n",
       "    <tr style=\"text-align: right;\">\n",
       "      <th></th>\n",
       "      <th>count</th>\n",
       "      <th>mean</th>\n",
       "      <th>std</th>\n",
       "      <th>min</th>\n",
       "      <th>25%</th>\n",
       "      <th>50%</th>\n",
       "      <th>75%</th>\n",
       "      <th>max</th>\n",
       "    </tr>\n",
       "  </thead>\n",
       "  <tbody>\n",
       "    <tr>\n",
       "      <th>Number_of_tokens</th>\n",
       "      <td>52603.0</td>\n",
       "      <td>6.61468</td>\n",
       "      <td>6.359828</td>\n",
       "      <td>1.0</td>\n",
       "      <td>3.0</td>\n",
       "      <td>5.0</td>\n",
       "      <td>8.0</td>\n",
       "      <td>261.0</td>\n",
       "    </tr>\n",
       "  </tbody>\n",
       "</table>\n",
       "</div>"
      ],
      "text/plain": [
       "                    count     mean       std  min  25%  50%  75%    max\n",
       "Number_of_tokens  52603.0  6.61468  6.359828  1.0  3.0  5.0  8.0  261.0"
      ]
     },
     "execution_count": 8,
     "metadata": {
      "tags": []
     },
     "output_type": "execute_result"
    }
   ],
   "source": [
    "data.describe().T"
   ]
  },
  {
   "cell_type": "code",
   "execution_count": null,
   "metadata": {
    "colab": {
     "base_uri": "https://localhost:8080/",
     "height": 224
    },
    "colab_type": "code",
    "id": "w7H7gXF79wKN",
    "outputId": "19d4cb9d-6d38-404a-eb2a-4021c5f4d989"
   },
   "outputs": [
    {
     "name": "stdout",
     "output_type": "stream",
     "text": [
      "(52603, 3)\n"
     ]
    },
    {
     "data": {
      "text/html": [
       "<div>\n",
       "<style scoped>\n",
       "    .dataframe tbody tr th:only-of-type {\n",
       "        vertical-align: middle;\n",
       "    }\n",
       "\n",
       "    .dataframe tbody tr th {\n",
       "        vertical-align: top;\n",
       "    }\n",
       "\n",
       "    .dataframe thead th {\n",
       "        text-align: right;\n",
       "    }\n",
       "</style>\n",
       "<table border=\"1\" class=\"dataframe\">\n",
       "  <thead>\n",
       "    <tr style=\"text-align: right;\">\n",
       "      <th></th>\n",
       "      <th>text</th>\n",
       "      <th>Number_of_tokens</th>\n",
       "      <th>words</th>\n",
       "    </tr>\n",
       "  </thead>\n",
       "  <tbody>\n",
       "    <tr>\n",
       "      <th>0</th>\n",
       "      <td>يا سيدي علي عيشوشه واله تمثل مليح وتمثيلها مقنع</td>\n",
       "      <td>9</td>\n",
       "      <td>[يا, سيدي, علي, عيشوشه, واله, تمثل, مليح, وتمث...</td>\n",
       "    </tr>\n",
       "    <tr>\n",
       "      <th>1</th>\n",
       "      <td>امنه تصلح وزيره مراه عالاقل تعطي منظر باهي لتو...</td>\n",
       "      <td>14</td>\n",
       "      <td>[امنه, تصلح, وزيره, مراه, عالاقل, تعطي, منظر, ...</td>\n",
       "    </tr>\n",
       "    <tr>\n",
       "      <th>2</th>\n",
       "      <td>حنان الشقراني احسن</td>\n",
       "      <td>3</td>\n",
       "      <td>[حنان, الشقراني, احسن]</td>\n",
       "    </tr>\n",
       "    <tr>\n",
       "      <th>3</th>\n",
       "      <td>بري روحي</td>\n",
       "      <td>2</td>\n",
       "      <td>[بري, روحي]</td>\n",
       "    </tr>\n",
       "    <tr>\n",
       "      <th>4</th>\n",
       "      <td>معلم يا لطفي</td>\n",
       "      <td>3</td>\n",
       "      <td>[معلم, يا, لطفي]</td>\n",
       "    </tr>\n",
       "  </tbody>\n",
       "</table>\n",
       "</div>"
      ],
      "text/plain": [
       "                                                text  ...                                              words\n",
       "0    يا سيدي علي عيشوشه واله تمثل مليح وتمثيلها مقنع  ...  [يا, سيدي, علي, عيشوشه, واله, تمثل, مليح, وتمث...\n",
       "1  امنه تصلح وزيره مراه عالاقل تعطي منظر باهي لتو...  ...  [امنه, تصلح, وزيره, مراه, عالاقل, تعطي, منظر, ...\n",
       "2                                 حنان الشقراني احسن  ...                             [حنان, الشقراني, احسن]\n",
       "3                                           بري روحي  ...                                        [بري, روحي]\n",
       "4                                       معلم يا لطفي  ...                                   [معلم, يا, لطفي]\n",
       "\n",
       "[5 rows x 3 columns]"
      ]
     },
     "execution_count": 9,
     "metadata": {
      "tags": []
     },
     "output_type": "execute_result"
    }
   ],
   "source": [
    "def tokenize(x):\n",
    "    return str(x).split()\n",
    "\n",
    "\n",
    "data[\"words\"] = data[\"text\"].apply(tokenize)\n",
    "\n",
    "print(data.shape)\n",
    "data.head()"
   ]
  },
  {
   "cell_type": "code",
   "execution_count": null,
   "metadata": {
    "colab": {},
    "colab_type": "code",
    "id": "_MtDFvOt98kL"
   },
   "outputs": [],
   "source": [
    "def keep_letters_only(text):  \n",
    "    text = re.sub(\"à\",\"a\",text)\n",
    "    text = re.sub(\"é\",\"e\",text)\n",
    "    text = re.sub(\"è\",\"e\",text)\n",
    "    text = re.sub(\"ù\",\"u\",text)\n",
    "    text = text.lower()\n",
    "    return text\n",
    "\n",
    "data[\"text\"] = data[\"text\"].apply(keep_letters_only)"
   ]
  },
  {
   "cell_type": "code",
   "execution_count": null,
   "metadata": {
    "colab": {
     "base_uri": "https://localhost:8080/",
     "height": 34
    },
    "colab_type": "code",
    "id": "xu8AAIK0LL94",
    "outputId": "6712b4f0-5588-4dcd-ebf1-ac579c2e8793"
   },
   "outputs": [
    {
     "data": {
      "text/plain": [
       "347952"
      ]
     },
     "execution_count": 11,
     "metadata": {
      "tags": []
     },
     "output_type": "execute_result"
    }
   ],
   "source": [
    "vocab = []\n",
    "def all_tokens(tokens):\n",
    "    for e in tokens:\n",
    "        vocab.append(e)\n",
    "        \n",
    "data[\"words\"].apply(all_tokens)\n",
    "len(vocab)"
   ]
  },
  {
   "cell_type": "markdown",
   "metadata": {
    "colab_type": "text",
    "id": "zMzT0kvkHdBL"
   },
   "source": [
    "d = {}\n",
    "def words_occurence(x):\n",
    "    x_set = set(x)\n",
    "    for e in x_set:\n",
    "        d[str(e)] = x.count(e)\n",
    "    return d\n",
    "\n",
    "d = words_occurence(vocab)\n"
   ]
  },
  {
   "cell_type": "code",
   "execution_count": null,
   "metadata": {
    "colab": {
     "base_uri": "https://localhost:8080/",
     "height": 225
    },
    "colab_type": "code",
    "id": "GLD6vFYgOfem",
    "outputId": "ff814504-a7a5-448f-f3ac-02ce3db79e14"
   },
   "outputs": [
    {
     "data": {
      "text/plain": [
       "0          يا سيدي علي عيشوشه واله تمثل مليح وتمثيلها مقنع\n",
       "1        امنه تصلح وزيره مراه عالاقل تعطي منظر باهي لتو...\n",
       "2                                       حنان الشقراني احسن\n",
       "3                                                 بري روحي\n",
       "4                                             معلم يا لطفي\n",
       "                               ...                        \n",
       "52598             wa7dek ya m3alem ena n7eb 8neyetek elkol\n",
       "52599    bravo enchalah lbe9in yamlo kifo 5ater tonis t...\n",
       "52600    yasir ta3jebni nhebha bercha fanana wa3liha le...\n",
       "52601                yser mjodra w moch 5arej 3liha idawer\n",
       "52602                                          wahdek olfa\n",
       "Name: text, Length: 52603, dtype: object"
      ]
     },
     "execution_count": 12,
     "metadata": {
      "tags": []
     },
     "output_type": "execute_result"
    }
   ],
   "source": [
    "my_corpus = []\n",
    "def to_corpus(row):\n",
    "    my_corpus.append(row.split())\n",
    "    return row\n",
    "\n",
    "data[\"text\"].apply(to_corpus)\n",
    "#my_corpus"
   ]
  },
  {
   "cell_type": "code",
   "execution_count": null,
   "metadata": {
    "colab": {},
    "colab_type": "code",
    "id": "PoNTjiDJOi_b"
   },
   "outputs": [],
   "source": [
    "from glove import Corpus, Glove\n",
    "from multiprocessing import Pool\n",
    "from scipy import spatial"
   ]
  },
  {
   "cell_type": "code",
   "execution_count": null,
   "metadata": {
    "colab": {},
    "colab_type": "code",
    "id": "td4eIf5jO-GB"
   },
   "outputs": [],
   "source": [
    "corpus = Corpus()"
   ]
  },
  {
   "cell_type": "code",
   "execution_count": null,
   "metadata": {
    "colab": {},
    "colab_type": "code",
    "id": "oEOKQT7LPUeM"
   },
   "outputs": [],
   "source": [
    "corpus.fit(my_corpus, window=5)"
   ]
  },
  {
   "cell_type": "code",
   "execution_count": null,
   "metadata": {
    "colab": {
     "base_uri": "https://localhost:8080/",
     "height": 34
    },
    "colab_type": "code",
    "id": "VanAyHd3PgRj",
    "outputId": "6eb42633-ad35-4a6b-8ac0-3c1581355b50"
   },
   "outputs": [
    {
     "name": "stdout",
     "output_type": "stream",
     "text": [
      "68862\n"
     ]
    }
   ],
   "source": [
    "print(len(corpus.dictionary))\n"
   ]
  },
  {
   "cell_type": "code",
   "execution_count": null,
   "metadata": {
    "colab": {},
    "colab_type": "code",
    "id": "83cvcHuxI8Sv"
   },
   "outputs": [],
   "source": [
    "vector_size = 100"
   ]
  },
  {
   "cell_type": "code",
   "execution_count": null,
   "metadata": {
    "colab": {},
    "colab_type": "code",
    "id": "V1qVDAMAQOyb"
   },
   "outputs": [],
   "source": [
    "######################################################################\n"
   ]
  },
  {
   "cell_type": "code",
   "execution_count": null,
   "metadata": {
    "colab": {},
    "colab_type": "code",
    "id": "LCpywfGeQmEk"
   },
   "outputs": [],
   "source": [
    "glove = Glove(no_components = vector_size, learning_rate = 0.01,alpha=0.75)"
   ]
  },
  {
   "cell_type": "code",
   "execution_count": null,
   "metadata": {
    "colab": {
     "base_uri": "https://localhost:8080/",
     "height": 903
    },
    "colab_type": "code",
    "id": "iryfiXxXQuXJ",
    "outputId": "c1dc0f50-5b92-4537-a3b7-732db57e4e93"
   },
   "outputs": [
    {
     "name": "stdout",
     "output_type": "stream",
     "text": [
      "Performing 50 training epochs with 2 threads\n",
      "Epoch 0\n",
      "Epoch 1\n",
      "Epoch 2\n",
      "Epoch 3\n",
      "Epoch 4\n",
      "Epoch 5\n",
      "Epoch 6\n",
      "Epoch 7\n",
      "Epoch 8\n",
      "Epoch 9\n",
      "Epoch 10\n",
      "Epoch 11\n",
      "Epoch 12\n",
      "Epoch 13\n",
      "Epoch 14\n",
      "Epoch 15\n",
      "Epoch 16\n",
      "Epoch 17\n",
      "Epoch 18\n",
      "Epoch 19\n",
      "Epoch 20\n",
      "Epoch 21\n",
      "Epoch 22\n",
      "Epoch 23\n",
      "Epoch 24\n",
      "Epoch 25\n",
      "Epoch 26\n",
      "Epoch 27\n",
      "Epoch 28\n",
      "Epoch 29\n",
      "Epoch 30\n",
      "Epoch 31\n",
      "Epoch 32\n",
      "Epoch 33\n",
      "Epoch 34\n",
      "Epoch 35\n",
      "Epoch 36\n",
      "Epoch 37\n",
      "Epoch 38\n",
      "Epoch 39\n",
      "Epoch 40\n",
      "Epoch 41\n",
      "Epoch 42\n",
      "Epoch 43\n",
      "Epoch 44\n",
      "Epoch 45\n",
      "Epoch 46\n",
      "Epoch 47\n",
      "Epoch 48\n",
      "Epoch 49\n"
     ]
    }
   ],
   "source": [
    "glove.fit(matrix = corpus.matrix, epochs = 50, no_threads = Pool()._processes, verbose = True)"
   ]
  },
  {
   "cell_type": "code",
   "execution_count": null,
   "metadata": {
    "colab": {},
    "colab_type": "code",
    "id": "2hNp8Rp3I-9J"
   },
   "outputs": [],
   "source": [
    "glove.add_dictionary(corpus.dictionary)"
   ]
  },
  {
   "cell_type": "code",
   "execution_count": null,
   "metadata": {
    "colab": {
     "base_uri": "https://localhost:8080/",
     "height": 34
    },
    "colab_type": "code",
    "id": "LnzQ3dSMQ1Z0",
    "outputId": "a8f6beb8-e148-41bd-909e-1335d223f3c3"
   },
   "outputs": [
    {
     "data": {
      "text/plain": [
       "(68862, 100)"
      ]
     },
     "execution_count": 36,
     "metadata": {
      "tags": []
     },
     "output_type": "execute_result"
    }
   ],
   "source": [
    "training_glove_vectors = np.array(glove.word_vectors)\n",
    "training_glove_vectors.shape"
   ]
  },
  {
   "cell_type": "code",
   "execution_count": null,
   "metadata": {
    "colab": {},
    "colab_type": "code",
    "id": "8SeO3u3t_-qy"
   },
   "outputs": [],
   "source": [
    "with open(\"results_glove.txt\", \"w\") as f:\n",
    "    for word in glove.dictionary:\n",
    "        f.write(word)\n",
    "        f.write(\" \")\n",
    "        for i in range(0, vector_size):\n",
    "            f.write(str(glove.word_vectors[glove.dictionary[word]][i]))\n",
    "            f.write(\" \")\n",
    "        f.write(\"\\n\")\n",
    "    f.close()"
   ]
  },
  {
   "cell_type": "code",
   "execution_count": null,
   "metadata": {
    "colab": {
     "base_uri": "https://localhost:8080/",
     "height": 72
    },
    "colab_type": "code",
    "id": "B-tmBv3yQ835",
    "outputId": "19137130-010d-4d95-bc77-c90aeda90792"
   },
   "outputs": [
    {
     "name": "stderr",
     "output_type": "stream",
     "text": [
      "/usr/local/lib/python3.6/dist-packages/smart_open/smart_open_lib.py:253: UserWarning: This function is deprecated, use smart_open.open instead. See the migration notes for details: https://github.com/RaRe-Technologies/smart_open/blob/master/README.rst#migrating-to-the-new-open-function\n",
      "  'See the migration notes for details: %s' % _MIGRATION_NOTES_URL\n"
     ]
    }
   ],
   "source": [
    "from gensim.scripts.glove2word2vec import glove2word2vec\n",
    "glove2word2vec(glove_input_file=\"results_glove.txt\", word2vec_output_file=\"glove_vectors_\"+str(vector_size)+\".txt\")    \n",
    "from gensim.models.keyedvectors import KeyedVectors\n",
    "model = KeyedVectors.load_word2vec_format(\"glove_vectors_\"+str(vector_size)+\".txt\", binary=False, unicode_errors='ignore')#"
   ]
  },
  {
   "cell_type": "code",
   "execution_count": null,
   "metadata": {
    "colab": {},
    "colab_type": "code",
    "id": "NrStcRhSKa_L"
   },
   "outputs": [],
   "source": [
    "##################################################################################################"
   ]
  },
  {
   "cell_type": "code",
   "execution_count": null,
   "metadata": {
    "colab": {
     "base_uri": "https://localhost:8080/",
     "height": 89
    },
    "colab_type": "code",
    "id": "Uyv-h9tLJ8ej",
    "outputId": "d03d0a3c-7eab-4be2-dcc7-c40752afac4e"
   },
   "outputs": [
    {
     "name": "stderr",
     "output_type": "stream",
     "text": [
      "/usr/local/lib/python3.6/dist-packages/gensim/matutils.py:737: FutureWarning: Conversion of the second argument of issubdtype from `int` to `np.signedinteger` is deprecated. In future, it will be treated as `np.int64 == np.dtype(int).type`.\n",
      "  if np.issubdtype(vec.dtype, np.int):\n"
     ]
    },
    {
     "data": {
      "text/plain": [
       "'bhim'"
      ]
     },
     "execution_count": 84,
     "metadata": {
      "tags": []
     },
     "output_type": "execute_result"
    }
   ],
   "source": [
    "model.most_similar_to_given(\"rajel\",[\"tfol\",\"bhim\",\"tofla\",\"msatek\"])"
   ]
  },
  {
   "cell_type": "code",
   "execution_count": null,
   "metadata": {
    "colab": {},
    "colab_type": "code",
    "id": "lZzVfXyiKC_z"
   },
   "outputs": [],
   "source": [
    "model.evaluate_word_analogies()"
   ]
  }
 ],
 "metadata": {
  "colab": {
   "collapsed_sections": [],
   "name": "glove_vectors.ipynb",
   "provenance": []
  },
  "kernelspec": {
   "display_name": "Python 3",
   "language": "python",
   "name": "python3"
  },
  "language_info": {
   "codemirror_mode": {
    "name": "ipython",
    "version": 3
   },
   "file_extension": ".py",
   "mimetype": "text/x-python",
   "name": "python",
   "nbconvert_exporter": "python",
   "pygments_lexer": "ipython3",
   "version": "3.7.3"
  }
 },
 "nbformat": 4,
 "nbformat_minor": 1
}
