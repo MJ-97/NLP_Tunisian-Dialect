{
 "cells": [
  {
   "cell_type": "code",
   "execution_count": 1,
   "metadata": {
    "colab": {},
    "colab_type": "code",
    "id": "MeG82Hx1d4sK"
   },
   "outputs": [],
   "source": [
    "#deal with tensors\n",
    "import torch   \n",
    "import sys\n",
    "#handling text data\n",
    "from torchtext import data    \n",
    "import pandas as pd\n",
    "from torchtext.vocab import Vectors\n",
    "from collections import Counter"
   ]
  },
  {
   "cell_type": "code",
   "execution_count": 2,
   "metadata": {},
   "outputs": [],
   "source": [
    "import os\n",
    "import json"
   ]
  },
  {
   "cell_type": "code",
   "execution_count": 3,
   "metadata": {},
   "outputs": [],
   "source": [
    "from time import time"
   ]
  },
  {
   "cell_type": "code",
   "execution_count": 4,
   "metadata": {
    "colab": {},
    "colab_type": "code",
    "id": "FZAe7rNLd5Sh"
   },
   "outputs": [],
   "source": [
    "#Reproducing same results\n",
    "SEED = 2020\n",
    "\n",
    "#Torch\n",
    "torch.manual_seed(SEED)\n",
    "\n",
    "#Cuda algorithms\n",
    "torch.backends.cudnn.deterministic = True  "
   ]
  },
  {
   "cell_type": "code",
   "execution_count": null,
   "metadata": {},
   "outputs": [],
   "source": [
    "#Load data"
   ]
  },
  {
   "cell_type": "code",
   "execution_count": 5,
   "metadata": {
    "colab": {},
    "colab_type": "code",
    "id": "zlH1WxnCd9rc"
   },
   "outputs": [
    {
     "data": {
      "text/html": [
       "<div>\n",
       "<style scoped>\n",
       "    .dataframe tbody tr th:only-of-type {\n",
       "        vertical-align: middle;\n",
       "    }\n",
       "\n",
       "    .dataframe tbody tr th {\n",
       "        vertical-align: top;\n",
       "    }\n",
       "\n",
       "    .dataframe thead th {\n",
       "        text-align: right;\n",
       "    }\n",
       "</style>\n",
       "<table border=\"1\" class=\"dataframe\">\n",
       "  <thead>\n",
       "    <tr style=\"text-align: right;\">\n",
       "      <th></th>\n",
       "      <th>0</th>\n",
       "      <th>label</th>\n",
       "    </tr>\n",
       "  </thead>\n",
       "  <tbody>\n",
       "    <tr>\n",
       "      <th>0</th>\n",
       "      <td>موجود في اخر الكولوار. و نجيبهولك توا. كان تست...</td>\n",
       "      <td>1</td>\n",
       "    </tr>\n",
       "    <tr>\n",
       "      <th>1</th>\n",
       "      <td>تعملوا تبديلات؟</td>\n",
       "      <td>1</td>\n",
       "    </tr>\n",
       "    <tr>\n",
       "      <th>2</th>\n",
       "      <td>نحبوا طاولة قريبة مالشباك.</td>\n",
       "      <td>1</td>\n",
       "    </tr>\n",
       "    <tr>\n",
       "      <th>3</th>\n",
       "      <td>اهوكا غادي، بالضبط قدام البيرو متاع الارشادات ...</td>\n",
       "      <td>1</td>\n",
       "    </tr>\n",
       "    <tr>\n",
       "      <th>4</th>\n",
       "      <td>عمري ما سمعت بالادريسة هاذي هوني.</td>\n",
       "      <td>1</td>\n",
       "    </tr>\n",
       "  </tbody>\n",
       "</table>\n",
       "</div>"
      ],
      "text/plain": [
       "                                                   0  label\n",
       "0  موجود في اخر الكولوار. و نجيبهولك توا. كان تست...      1\n",
       "1                                    تعملوا تبديلات؟      1\n",
       "2                         نحبوا طاولة قريبة مالشباك.      1\n",
       "3  اهوكا غادي، بالضبط قدام البيرو متاع الارشادات ...      1\n",
       "4                  عمري ما سمعت بالادريسة هاذي هوني.      1"
      ]
     },
     "execution_count": 5,
     "metadata": {},
     "output_type": "execute_result"
    }
   ],
   "source": [
    "#Label 1 for Tunisian sentences\n",
    "train = pd.read_csv(\"train/MADAR.corpus6Tunis.txt\",header=None,sep=\"\\n\")\n",
    "train[\"label\"] = 1\n",
    "train.head()"
   ]
  },
  {
   "cell_type": "code",
   "execution_count": 6,
   "metadata": {},
   "outputs": [
    {
     "name": "stdout",
     "output_type": "stream",
     "text": [
      "(36000, 2)\n"
     ]
    },
    {
     "data": {
      "text/html": [
       "<div>\n",
       "<style scoped>\n",
       "    .dataframe tbody tr th:only-of-type {\n",
       "        vertical-align: middle;\n",
       "    }\n",
       "\n",
       "    .dataframe tbody tr th {\n",
       "        vertical-align: top;\n",
       "    }\n",
       "\n",
       "    .dataframe thead th {\n",
       "        text-align: right;\n",
       "    }\n",
       "</style>\n",
       "<table border=\"1\" class=\"dataframe\">\n",
       "  <thead>\n",
       "    <tr style=\"text-align: right;\">\n",
       "      <th></th>\n",
       "      <th>0</th>\n",
       "      <th>label</th>\n",
       "    </tr>\n",
       "  </thead>\n",
       "  <tbody>\n",
       "    <tr>\n",
       "      <th>0</th>\n",
       "      <td>هو في اخر القاعة . أنا حأجيبلك شويه دلوقتي . ل...</td>\n",
       "      <td>0</td>\n",
       "    </tr>\n",
       "    <tr>\n",
       "      <th>1</th>\n",
       "      <td>بتعمل تبديلات؟</td>\n",
       "      <td>0</td>\n",
       "    </tr>\n",
       "    <tr>\n",
       "      <th>2</th>\n",
       "      <td>عايزين ترابيزة جنب الشباك .</td>\n",
       "      <td>0</td>\n",
       "    </tr>\n",
       "    <tr>\n",
       "      <th>3</th>\n",
       "      <td>ده قدامك هناك، يادوبك قدام مكتب استعلامات السي...</td>\n",
       "      <td>0</td>\n",
       "    </tr>\n",
       "    <tr>\n",
       "      <th>4</th>\n",
       "      <td>عمري ما سمعت عن العنوان ده هنا .</td>\n",
       "      <td>0</td>\n",
       "    </tr>\n",
       "  </tbody>\n",
       "</table>\n",
       "</div>"
      ],
      "text/plain": [
       "                                                   0  label\n",
       "0  هو في اخر القاعة . أنا حأجيبلك شويه دلوقتي . ل...      0\n",
       "1                                     بتعمل تبديلات؟      0\n",
       "2                        عايزين ترابيزة جنب الشباك .      0\n",
       "3  ده قدامك هناك، يادوبك قدام مكتب استعلامات السي...      0\n",
       "4                   عمري ما سمعت عن العنوان ده هنا .      0"
      ]
     },
     "execution_count": 6,
     "metadata": {},
     "output_type": "execute_result"
    }
   ],
   "source": [
    "#Label 0 for other dialects\n",
    "train_0 = pd.read_csv(\"train/MADAR.corpus6Cairo.txt\",header=None,sep=\"\\n\")\n",
    "train_0 = train_0.append(pd.read_csv(\"train/MADAR.corpus6MSA.txt\",header=None,error_bad_lines=False,sep=\"\\n\"))\n",
    "train_0 = train_0.append(pd.read_csv(\"train/MADAR.corpus6Rabat.txt\",header=None,error_bad_lines=False,sep=\"\\n\"))\n",
    "train_0[\"label\"] = 0\n",
    "print(train_0.shape)\n",
    "train_0.head()"
   ]
  },
  {
   "cell_type": "code",
   "execution_count": 7,
   "metadata": {},
   "outputs": [
    {
     "data": {
      "text/html": [
       "<div>\n",
       "<style scoped>\n",
       "    .dataframe tbody tr th:only-of-type {\n",
       "        vertical-align: middle;\n",
       "    }\n",
       "\n",
       "    .dataframe tbody tr th {\n",
       "        vertical-align: top;\n",
       "    }\n",
       "\n",
       "    .dataframe thead th {\n",
       "        text-align: right;\n",
       "    }\n",
       "</style>\n",
       "<table border=\"1\" class=\"dataframe\">\n",
       "  <thead>\n",
       "    <tr style=\"text-align: right;\">\n",
       "      <th></th>\n",
       "      <th>0</th>\n",
       "      <th>label</th>\n",
       "    </tr>\n",
       "  </thead>\n",
       "  <tbody>\n",
       "    <tr>\n",
       "      <th>0</th>\n",
       "      <td>موجود في اخر الكولوار. و نجيبهولك توا. كان تست...</td>\n",
       "      <td>1</td>\n",
       "    </tr>\n",
       "    <tr>\n",
       "      <th>1</th>\n",
       "      <td>تعملوا تبديلات؟</td>\n",
       "      <td>1</td>\n",
       "    </tr>\n",
       "  </tbody>\n",
       "</table>\n",
       "</div>"
      ],
      "text/plain": [
       "                                                   0  label\n",
       "0  موجود في اخر الكولوار. و نجيبهولك توا. كان تست...      1\n",
       "1                                    تعملوا تبديلات؟      1"
      ]
     },
     "execution_count": 7,
     "metadata": {},
     "output_type": "execute_result"
    }
   ],
   "source": [
    "#merge data\n",
    "train = train.append(train_0)\n",
    "train.head(2)"
   ]
  },
  {
   "cell_type": "code",
   "execution_count": 8,
   "metadata": {},
   "outputs": [
    {
     "name": "stdout",
     "output_type": "stream",
     "text": [
      "(48000, 2)\n"
     ]
    }
   ],
   "source": [
    "print(train.shape)"
   ]
  },
  {
   "cell_type": "code",
   "execution_count": 9,
   "metadata": {
    "colab": {},
    "colab_type": "code",
    "id": "zlH1WxnCd9rc"
   },
   "outputs": [
    {
     "data": {
      "text/html": [
       "<div>\n",
       "<style scoped>\n",
       "    .dataframe tbody tr th:only-of-type {\n",
       "        vertical-align: middle;\n",
       "    }\n",
       "\n",
       "    .dataframe tbody tr th {\n",
       "        vertical-align: top;\n",
       "    }\n",
       "\n",
       "    .dataframe thead th {\n",
       "        text-align: right;\n",
       "    }\n",
       "</style>\n",
       "<table border=\"1\" class=\"dataframe\">\n",
       "  <thead>\n",
       "    <tr style=\"text-align: right;\">\n",
       "      <th></th>\n",
       "      <th>text</th>\n",
       "      <th>label</th>\n",
       "    </tr>\n",
       "  </thead>\n",
       "  <tbody>\n",
       "    <tr>\n",
       "      <th>0</th>\n",
       "      <td>موجود في اخر الكولوار. و نجيبهولك توا. كان تست...</td>\n",
       "      <td>1</td>\n",
       "    </tr>\n",
       "    <tr>\n",
       "      <th>1</th>\n",
       "      <td>تعملوا تبديلات؟</td>\n",
       "      <td>1</td>\n",
       "    </tr>\n",
       "    <tr>\n",
       "      <th>2</th>\n",
       "      <td>نحبوا طاولة قريبة مالشباك.</td>\n",
       "      <td>1</td>\n",
       "    </tr>\n",
       "    <tr>\n",
       "      <th>3</th>\n",
       "      <td>اهوكا غادي، بالضبط قدام البيرو متاع الارشادات ...</td>\n",
       "      <td>1</td>\n",
       "    </tr>\n",
       "    <tr>\n",
       "      <th>4</th>\n",
       "      <td>عمري ما سمعت بالادريسة هاذي هوني.</td>\n",
       "      <td>1</td>\n",
       "    </tr>\n",
       "  </tbody>\n",
       "</table>\n",
       "</div>"
      ],
      "text/plain": [
       "                                                text  label\n",
       "0  موجود في اخر الكولوار. و نجيبهولك توا. كان تست...      1\n",
       "1                                    تعملوا تبديلات؟      1\n",
       "2                         نحبوا طاولة قريبة مالشباك.      1\n",
       "3  اهوكا غادي، بالضبط قدام البيرو متاع الارشادات ...      1\n",
       "4                  عمري ما سمعت بالادريسة هاذي هوني.      1"
      ]
     },
     "execution_count": 9,
     "metadata": {},
     "output_type": "execute_result"
    }
   ],
   "source": [
    "train.rename({0:\"text\"},inplace=True,axis=1)\n",
    "train.head()"
   ]
  },
  {
   "cell_type": "code",
   "execution_count": 10,
   "metadata": {},
   "outputs": [
    {
     "data": {
      "text/html": [
       "<div>\n",
       "<style scoped>\n",
       "    .dataframe tbody tr th:only-of-type {\n",
       "        vertical-align: middle;\n",
       "    }\n",
       "\n",
       "    .dataframe tbody tr th {\n",
       "        vertical-align: top;\n",
       "    }\n",
       "\n",
       "    .dataframe thead th {\n",
       "        text-align: right;\n",
       "    }\n",
       "</style>\n",
       "<table border=\"1\" class=\"dataframe\">\n",
       "  <thead>\n",
       "    <tr style=\"text-align: right;\">\n",
       "      <th></th>\n",
       "      <th>text</th>\n",
       "      <th>label</th>\n",
       "    </tr>\n",
       "  </thead>\n",
       "  <tbody>\n",
       "    <tr>\n",
       "      <th>0</th>\n",
       "      <td>نجم نبعث كان مايل واحد ال دولار؟</td>\n",
       "      <td>1</td>\n",
       "    </tr>\n",
       "    <tr>\n",
       "      <th>1</th>\n",
       "      <td>خرج بسرعة في نص الشارع اللي مفهوش مكان إنه يعدي.</td>\n",
       "      <td>0</td>\n",
       "    </tr>\n",
       "    <tr>\n",
       "      <th>2</th>\n",
       "      <td>واحد ناقص . مجموع ما اشتريت خمسة .</td>\n",
       "      <td>0</td>\n",
       "    </tr>\n",
       "    <tr>\n",
       "      <th>3</th>\n",
       "      <td>عندك منقالة سلسلة؟</td>\n",
       "      <td>1</td>\n",
       "    </tr>\n",
       "    <tr>\n",
       "      <th>4</th>\n",
       "      <td>فصيلة الدم ديالي هي إي.</td>\n",
       "      <td>0</td>\n",
       "    </tr>\n",
       "  </tbody>\n",
       "</table>\n",
       "</div>"
      ],
      "text/plain": [
       "                                               text  label\n",
       "0                  نجم نبعث كان مايل واحد ال دولار؟      1\n",
       "1  خرج بسرعة في نص الشارع اللي مفهوش مكان إنه يعدي.      0\n",
       "2                واحد ناقص . مجموع ما اشتريت خمسة .      0\n",
       "3                                عندك منقالة سلسلة؟      1\n",
       "4                           فصيلة الدم ديالي هي إي.      0"
      ]
     },
     "execution_count": 10,
     "metadata": {},
     "output_type": "execute_result"
    }
   ],
   "source": [
    "#shuffling data\n",
    "train = train.sample(frac=1).reset_index(drop=True)\n",
    "train.head()"
   ]
  },
  {
   "cell_type": "code",
   "execution_count": null,
   "metadata": {},
   "outputs": [],
   "source": [
    "#some preprocessing"
   ]
  },
  {
   "cell_type": "code",
   "execution_count": 11,
   "metadata": {},
   "outputs": [],
   "source": [
    "def remove_puncts(text):\n",
    "    puncts = ['«','ï' ,'«', '\"','-', '|', \"'\", '$', '&', '/', '[', ']', '>', '%', '=', '#', '*', '+', '\\\\', '•',  '~', '@', '£', \n",
    " '·', '_', '{', '}', '©', '^', '®', '`',  '<', '→', '°', '€', '™', '›',  '♥', '←', '×', '§', '″', '′', 'Â', '█', '½', '…', \n",
    " '“', '★', '”', '–', '●', 'â', '►', '−', '¢', '²', '¬', '░', '¶', '↑', '±', '¿', '▾', '═', '¦', '║', '―', '¥', '▓', '—', '‹', '─', \n",
    " '▒', '：', '¼', '⊕', '▼', '▪', '†', '■', '’', '▀', '¨', '▄', '♫', '☆', '¯', '♦', '¤', '▲', '¸', '¾', 'Ã', '⋅', '‘', '∞', \n",
    " '∙', '）', '↓', '、', '│', '（', '»', '，', '♪', '╩', '╚', '³', '・', '╦', '╣', '╔', '╗', '▬', '❤', 'ï', 'Ø', '¹', '≤', '‡', '√', ]\n",
    "    for punct in puncts:\n",
    "        if punct in text:\n",
    "            text = text.replace(punct, \"\")\n",
    "    return text\n",
    "\n",
    "train[\"text\"] = train[\"text\"].apply(remove_puncts)\n"
   ]
  },
  {
   "cell_type": "code",
   "execution_count": 12,
   "metadata": {
    "colab": {
     "base_uri": "https://localhost:8080/",
     "height": 206
    },
    "colab_type": "code",
    "id": "bMnHDNaNmrUg",
    "outputId": "fc64aa2c-3036-4e54-ad7e-d08d438e9331"
   },
   "outputs": [
    {
     "data": {
      "text/html": [
       "<div>\n",
       "<style scoped>\n",
       "    .dataframe tbody tr th:only-of-type {\n",
       "        vertical-align: middle;\n",
       "    }\n",
       "\n",
       "    .dataframe tbody tr th {\n",
       "        vertical-align: top;\n",
       "    }\n",
       "\n",
       "    .dataframe thead th {\n",
       "        text-align: right;\n",
       "    }\n",
       "</style>\n",
       "<table border=\"1\" class=\"dataframe\">\n",
       "  <thead>\n",
       "    <tr style=\"text-align: right;\">\n",
       "      <th></th>\n",
       "      <th>text</th>\n",
       "      <th>label</th>\n",
       "    </tr>\n",
       "  </thead>\n",
       "  <tbody>\n",
       "    <tr>\n",
       "      <th>0</th>\n",
       "      <td>نجم نبعث كان مايل واحد ال دولار؟</td>\n",
       "      <td>1</td>\n",
       "    </tr>\n",
       "    <tr>\n",
       "      <th>1</th>\n",
       "      <td>خرج بسرعة في نص الشارع اللي مفهوش مكان إنه يعدي.</td>\n",
       "      <td>0</td>\n",
       "    </tr>\n",
       "    <tr>\n",
       "      <th>2</th>\n",
       "      <td>واحد ناقص . مجموع ما اشتريت خمسة .</td>\n",
       "      <td>0</td>\n",
       "    </tr>\n",
       "    <tr>\n",
       "      <th>3</th>\n",
       "      <td>عندك منقالة سلسلة؟</td>\n",
       "      <td>1</td>\n",
       "    </tr>\n",
       "    <tr>\n",
       "      <th>4</th>\n",
       "      <td>فصيلة الدم ديالي هي إي.</td>\n",
       "      <td>0</td>\n",
       "    </tr>\n",
       "  </tbody>\n",
       "</table>\n",
       "</div>"
      ],
      "text/plain": [
       "                                               text  label\n",
       "0                  نجم نبعث كان مايل واحد ال دولار؟      1\n",
       "1  خرج بسرعة في نص الشارع اللي مفهوش مكان إنه يعدي.      0\n",
       "2                واحد ناقص . مجموع ما اشتريت خمسة .      0\n",
       "3                                عندك منقالة سلسلة؟      1\n",
       "4                           فصيلة الدم ديالي هي إي.      0"
      ]
     },
     "execution_count": 12,
     "metadata": {},
     "output_type": "execute_result"
    }
   ],
   "source": [
    "train[\"text\"] = train[\"text\"].apply(str)\n",
    "train.head()"
   ]
  },
  {
   "cell_type": "code",
   "execution_count": null,
   "metadata": {},
   "outputs": [],
   "source": [
    "#Preparing the data as it is expected to ELMo\n",
    "#ELMo:Training a biLM on a new corpus\n",
    "#https://github.com/allenai/bilm-tf"
   ]
  },
  {
   "cell_type": "code",
   "execution_count": 13,
   "metadata": {
    "colab": {},
    "colab_type": "code",
    "id": "Q3_DeJSZf7ZW"
   },
   "outputs": [],
   "source": [
    "# corpus = list of tokenized sentences\n",
    "corpus = []\n",
    "def to_corpus(row):\n",
    "    new = str(row).split()\n",
    "    corpus.append(new)\n",
    "    return new\n",
    "\n",
    "train[\"samples\"] = train[\"text\"].apply(to_corpus)"
   ]
  },
  {
   "cell_type": "code",
   "execution_count": 14,
   "metadata": {
    "colab": {
     "base_uri": "https://localhost:8080/",
     "height": 1000
    },
    "colab_type": "code",
    "id": "lR6TdJvbUFHZ",
    "outputId": "2d9d265e-767b-4368-a715-b575cdd81404"
   },
   "outputs": [],
   "source": [
    "texts = \" \".join(train['text'].tolist())\n",
    "words = texts.split(\" \")"
   ]
  },
  {
   "cell_type": "code",
   "execution_count": 15,
   "metadata": {
    "colab": {
     "base_uri": "https://localhost:8080/",
     "height": 34
    },
    "colab_type": "code",
    "id": "JbMJ60QGSKZ-",
    "outputId": "4c924569-a054-4010-db6d-708986e69d10"
   },
   "outputs": [
    {
     "name": "stdout",
     "output_type": "stream",
     "text": [
      "Size of Vocab 49052\n"
     ]
    }
   ],
   "source": [
    "dictionary = Counter(words)\n",
    "print(\"Size of Vocab\",len(dictionary))\n",
    "sorted_vocab = [\"<S>\",\"</S>\",\"<UNK>\"]\n",
    "sorted_vocab.extend([pair[0] for pair in dictionary.most_common()])"
   ]
  },
  {
   "cell_type": "code",
   "execution_count": null,
   "metadata": {
    "colab": {},
    "colab_type": "code",
    "id": "heU-1RHLacmw"
   },
   "outputs": [],
   "source": []
  },
  {
   "cell_type": "code",
   "execution_count": 16,
   "metadata": {
    "colab": {},
    "colab_type": "code",
    "id": "1QLjG1csZbJW"
   },
   "outputs": [],
   "source": [
    "fp = open(\"train_vocab.txt\",\"w\")\n",
    "for i in sorted_vocab:\n",
    "  fp.write(i)\n",
    "  fp.write(\"\\n\")\n",
    "fp.close()\n",
    "\n"
   ]
  },
  {
   "cell_type": "code",
   "execution_count": 17,
   "metadata": {
    "colab": {
     "base_uri": "https://localhost:8080/",
     "height": 206
    },
    "colab_type": "code",
    "id": "ZzKxmD8s0SoM",
    "outputId": "8bdcfbbb-ea1e-4ac3-b248-49cd37a47116"
   },
   "outputs": [
    {
     "data": {
      "text/html": [
       "<div>\n",
       "<style scoped>\n",
       "    .dataframe tbody tr th:only-of-type {\n",
       "        vertical-align: middle;\n",
       "    }\n",
       "\n",
       "    .dataframe tbody tr th {\n",
       "        vertical-align: top;\n",
       "    }\n",
       "\n",
       "    .dataframe thead th {\n",
       "        text-align: right;\n",
       "    }\n",
       "</style>\n",
       "<table border=\"1\" class=\"dataframe\">\n",
       "  <thead>\n",
       "    <tr style=\"text-align: right;\">\n",
       "      <th></th>\n",
       "      <th>text</th>\n",
       "      <th>label</th>\n",
       "      <th>samples</th>\n",
       "    </tr>\n",
       "  </thead>\n",
       "  <tbody>\n",
       "    <tr>\n",
       "      <th>0</th>\n",
       "      <td>شكوناهوا الفنان؟</td>\n",
       "      <td>0</td>\n",
       "      <td>[شكوناهوا, الفنان؟]</td>\n",
       "    </tr>\n",
       "    <tr>\n",
       "      <th>1</th>\n",
       "      <td>ايوه، انا حجزت تبع وكاله سياحة اي بي سي .</td>\n",
       "      <td>0</td>\n",
       "      <td>[ايوه،, انا, حجزت, تبع, وكاله, سياحة, اي, بي, ...</td>\n",
       "    </tr>\n",
       "    <tr>\n",
       "      <th>2</th>\n",
       "      <td>أي، موجود. هوني يجي تران. نهارك زين.</td>\n",
       "      <td>1</td>\n",
       "      <td>[أي،, موجود., هوني, يجي, تران., نهارك, زين.]</td>\n",
       "    </tr>\n",
       "    <tr>\n",
       "      <th>3</th>\n",
       "      <td>كم مرة تقيم حفلاً موسيقياً ؟</td>\n",
       "      <td>0</td>\n",
       "      <td>[كم, مرة, تقيم, حفلاً, موسيقياً, ؟]</td>\n",
       "    </tr>\n",
       "    <tr>\n",
       "      <th>4</th>\n",
       "      <td>حسنا، غادي نعاود الاتصال بيك من بعد. شكرا.</td>\n",
       "      <td>0</td>\n",
       "      <td>[حسنا،, غادي, نعاود, الاتصال, بيك, من, بعد., ش...</td>\n",
       "    </tr>\n",
       "  </tbody>\n",
       "</table>\n",
       "</div>"
      ],
      "text/plain": [
       "                                         text  label  \\\n",
       "0                            شكوناهوا الفنان؟      0   \n",
       "1   ايوه، انا حجزت تبع وكاله سياحة اي بي سي .      0   \n",
       "2        أي، موجود. هوني يجي تران. نهارك زين.      1   \n",
       "3                كم مرة تقيم حفلاً موسيقياً ؟      0   \n",
       "4  حسنا، غادي نعاود الاتصال بيك من بعد. شكرا.      0   \n",
       "\n",
       "                                             samples  \n",
       "0                                [شكوناهوا, الفنان؟]  \n",
       "1  [ايوه،, انا, حجزت, تبع, وكاله, سياحة, اي, بي, ...  \n",
       "2       [أي،, موجود., هوني, يجي, تران., نهارك, زين.]  \n",
       "3                [كم, مرة, تقيم, حفلاً, موسيقياً, ؟]  \n",
       "4  [حسنا،, غادي, نعاود, الاتصال, بيك, من, بعد., ش...  "
      ]
     },
     "execution_count": 17,
     "metadata": {},
     "output_type": "execute_result"
    }
   ],
   "source": [
    "train_d = train.sample(frac=1).reset_index(drop=True)\n",
    "train_d.head()"
   ]
  },
  {
   "cell_type": "code",
   "execution_count": 18,
   "metadata": {},
   "outputs": [],
   "source": [
    "train_d[\"count\"] = train_d[\"samples\"].apply(len)"
   ]
  },
  {
   "cell_type": "code",
   "execution_count": 19,
   "metadata": {},
   "outputs": [
    {
     "data": {
      "text/html": [
       "<div>\n",
       "<style scoped>\n",
       "    .dataframe tbody tr th:only-of-type {\n",
       "        vertical-align: middle;\n",
       "    }\n",
       "\n",
       "    .dataframe tbody tr th {\n",
       "        vertical-align: top;\n",
       "    }\n",
       "\n",
       "    .dataframe thead th {\n",
       "        text-align: right;\n",
       "    }\n",
       "</style>\n",
       "<table border=\"1\" class=\"dataframe\">\n",
       "  <thead>\n",
       "    <tr style=\"text-align: right;\">\n",
       "      <th></th>\n",
       "      <th>count</th>\n",
       "      <th>mean</th>\n",
       "      <th>std</th>\n",
       "      <th>min</th>\n",
       "      <th>25%</th>\n",
       "      <th>50%</th>\n",
       "      <th>75%</th>\n",
       "      <th>max</th>\n",
       "    </tr>\n",
       "  </thead>\n",
       "  <tbody>\n",
       "    <tr>\n",
       "      <th>label</th>\n",
       "      <td>48000.0</td>\n",
       "      <td>0.250000</td>\n",
       "      <td>0.433017</td>\n",
       "      <td>0.0</td>\n",
       "      <td>0.0</td>\n",
       "      <td>0.0</td>\n",
       "      <td>0.25</td>\n",
       "      <td>1.0</td>\n",
       "    </tr>\n",
       "    <tr>\n",
       "      <th>count</th>\n",
       "      <td>48000.0</td>\n",
       "      <td>6.414417</td>\n",
       "      <td>3.691133</td>\n",
       "      <td>1.0</td>\n",
       "      <td>4.0</td>\n",
       "      <td>6.0</td>\n",
       "      <td>8.00</td>\n",
       "      <td>59.0</td>\n",
       "    </tr>\n",
       "  </tbody>\n",
       "</table>\n",
       "</div>"
      ],
      "text/plain": [
       "         count      mean       std  min  25%  50%   75%   max\n",
       "label  48000.0  0.250000  0.433017  0.0  0.0  0.0  0.25   1.0\n",
       "count  48000.0  6.414417  3.691133  1.0  4.0  6.0  8.00  59.0"
      ]
     },
     "execution_count": 19,
     "metadata": {},
     "output_type": "execute_result"
    }
   ],
   "source": [
    "train_d.describe().T"
   ]
  },
  {
   "cell_type": "code",
   "execution_count": 20,
   "metadata": {},
   "outputs": [
    {
     "data": {
      "text/plain": [
       "(48000, 4)"
      ]
     },
     "execution_count": 20,
     "metadata": {},
     "output_type": "execute_result"
    }
   ],
   "source": [
    "train_d.shape"
   ]
  },
  {
   "cell_type": "code",
   "execution_count": 21,
   "metadata": {},
   "outputs": [
    {
     "data": {
      "text/plain": [
       "(48000, 4)"
      ]
     },
     "execution_count": 21,
     "metadata": {},
     "output_type": "execute_result"
    }
   ],
   "source": [
    "train_d = train_d[ train_d[\"count\"] <= 60 ]\n",
    "train_d.shape"
   ]
  },
  {
   "cell_type": "code",
   "execution_count": 22,
   "metadata": {},
   "outputs": [
    {
     "data": {
      "text/plain": [
       "5     7275\n",
       "4     7168\n",
       "6     6302\n",
       "3     5774\n",
       "7     5073\n",
       "8     3772\n",
       "9     2669\n",
       "2     2560\n",
       "10    1953\n",
       "11    1347\n",
       "12     991\n",
       "13     688\n",
       "14     495\n",
       "15     386\n",
       "1      331\n",
       "16     281\n",
       "17     190\n",
       "18     151\n",
       "19      98\n",
       "20      93\n",
       "21      75\n",
       "22      61\n",
       "23      54\n",
       "24      34\n",
       "26      30\n",
       "25      19\n",
       "27      19\n",
       "28      18\n",
       "29      18\n",
       "30      13\n",
       "33       8\n",
       "31       8\n",
       "36       7\n",
       "35       6\n",
       "32       5\n",
       "39       4\n",
       "34       4\n",
       "38       3\n",
       "42       3\n",
       "41       3\n",
       "48       2\n",
       "52       2\n",
       "44       1\n",
       "46       1\n",
       "47       1\n",
       "40       1\n",
       "49       1\n",
       "50       1\n",
       "59       1\n",
       "Name: count, dtype: int64"
      ]
     },
     "execution_count": 22,
     "metadata": {},
     "output_type": "execute_result"
    }
   ],
   "source": [
    "train_d[\"count\"].value_counts()"
   ]
  },
  {
   "cell_type": "code",
   "execution_count": 23,
   "metadata": {
    "colab": {},
    "colab_type": "code",
    "id": "nSjUMHo5TZwL"
   },
   "outputs": [],
   "source": [
    "import torch.nn as nn\n",
    "from allennlp.modules.elmo import Elmo, batch_to_ids\n",
    "\n",
    "\n",
    "class Classifier(nn.Module):\n",
    "    \n",
    "    #define all the layers used in model\n",
    "    def __init__(self, vocab_size, embedding_dim, hidden_dim, output_dim, \n",
    "                 dropout,options_file,weight_file):\n",
    "        \n",
    "        #Constructor\n",
    "        super().__init__()          \n",
    "        \n",
    "        #Elmo Layers\n",
    "        #requires_grad=True to fine-tune elmo parameters\n",
    "        self.elmo = Elmo(options_file, weight_file,1 ,requires_grad = False,dropout = 0.3)            \n",
    "                \n",
    "        #dense layers\n",
    "        self.fc_1 = nn.Linear(embedding_dim, hidden_dim)\n",
    "        self.fc = nn.Linear(hidden_dim, output_dim)\n",
    "        \n",
    "        #dropout \n",
    "        self.droplayer = nn.Dropout(p= dropout)\n",
    "        \n",
    "        #activation function\n",
    "        self.act_1 = nn.ReLU()\n",
    "        self.act = nn.Sigmoid()\n",
    "        \n",
    "    def forward(self, sentences):\n",
    "\n",
    "        #inputs for elmo of shape [batch size,time_steps,50]\n",
    "        embedded = self.elmo(sentences)\n",
    "        #print(len(embedded[\"elmo_representations\"]))\n",
    "\n",
    "        #retrieve the embeddings having shape [batch size, sent_len, emb dim]\n",
    "        embedded = embedded[\"elmo_representations\"][0]\n",
    "        embedded = embedded[:,0,:]\n",
    "        embedded = embedded.view(embedded.shape[0],embedded.shape[-1])\n",
    "\n",
    "\n",
    "        dense_outputs = self.act_1(self.fc_1(embedded))\n",
    "        \n",
    "        dense_outputs = self.droplayer(dense_outputs)\n",
    "        \n",
    "        dense_outputs = self.fc(dense_outputs)\n",
    "\n",
    "        #Final activation function\n",
    "        outputs = self.act(dense_outputs)\n",
    "        \n",
    "        return outputs"
   ]
  },
  {
   "cell_type": "code",
   "execution_count": 24,
   "metadata": {
    "colab": {},
    "colab_type": "code",
    "id": "sWqFh0ErTb1U"
   },
   "outputs": [],
   "source": [
    "#No. of trianable parameters\n",
    "def count_parameters(model):\n",
    "    return sum(p.numel() for p in model.parameters() if p.requires_grad)"
   ]
  },
  {
   "cell_type": "code",
   "execution_count": 25,
   "metadata": {
    "colab": {},
    "colab_type": "code",
    "id": "PUgNhgtITuXs"
   },
   "outputs": [],
   "source": [
    "import torch.optim as optim\n",
    "from torch import LongTensor\n",
    "\n",
    "#define metric\n",
    "def binary_accuracy(preds, y):\n",
    "    #round predictions to the closest integer\n",
    "    rounded_preds = torch.round(preds)\n",
    "    \n",
    "    correct = (rounded_preds == y).float() \n",
    "    acc = correct.sum() / len(correct)\n",
    "    return acc\n",
    "    \n"
   ]
  },
  {
   "cell_type": "code",
   "execution_count": 26,
   "metadata": {
    "colab": {},
    "colab_type": "code",
    "id": "DNwX2nLMTxqt"
   },
   "outputs": [],
   "source": [
    "def train(model, iterator, optimizer, criterion):\n",
    "\n",
    "    \n",
    "    t0 = time()\n",
    "    print(\"\\ntraining process...:\")\n",
    "\n",
    "    #initialize every epoch \n",
    "    epoch_loss = 0\n",
    "    epoch_acc = 0\n",
    "    #set the model in training phase\n",
    "    model.train()  \n",
    "    iterator_length = len(iterator)\n",
    "    \n",
    "    for step, batch in enumerate(iterator):\n",
    "\n",
    "        if step % 50 == 0 and not step == 0:\n",
    "          # Calculate elapsed time in minutes.\n",
    "          elapsed = format_time(time() - t0)\n",
    "          # Report progress.\n",
    "          print(' Batch {:>5,} of {:>5,}. Elapsed: {:}.'.format(step, len(iterator), elapsed)) \n",
    "         # [0]: input ids \n",
    "         # [1]: labels\n",
    "        b_input_ids = batch[0].to(device)\n",
    "        b_labels = batch[1].to(device)\n",
    "\n",
    "        #resets the gradients after every batch\n",
    "        optimizer.zero_grad()   \n",
    "        \n",
    "        #convert to 1D tensor\n",
    "        predictions = model(b_input_ids).squeeze()\n",
    "        b_labels = b_labels.type_as(predictions)\n",
    "\n",
    "        #compute the loss\n",
    "        loss = criterion(predictions, b_labels)        \n",
    "        \n",
    "        #compute the binary accuracy\n",
    "        acc = binary_accuracy(predictions, b_labels)   \n",
    "        \n",
    "        #backpropage the loss and compute the gradients\n",
    "        loss.backward()       \n",
    "        \n",
    "        #update the weights\n",
    "        optimizer.step()      \n",
    "        \n",
    "        #loss and accuracy\n",
    "        epoch_loss += loss.item()  \n",
    "        epoch_acc += acc.item()\n",
    "    \n",
    "    print(\"\\ntraining_epoch_loss: \",epoch_loss/iterator_length,\"\\ntraining_epoch_acc: \",epoch_acc/iterator_length)\n",
    "    \n",
    "        \n",
    "    return epoch_loss / iterator_length , epoch_acc / iterator_length"
   ]
  },
  {
   "cell_type": "code",
   "execution_count": 27,
   "metadata": {
    "colab": {},
    "colab_type": "code",
    "id": "ysyEIhujTymh"
   },
   "outputs": [],
   "source": [
    "def evaluate(model, iterator, criterion):\n",
    "    \n",
    "    t0 = time()\n",
    "    print(\"\\nvalidation process...:\")\n",
    "    #initialize every epoch\n",
    "    epoch_loss = 0\n",
    "    epoch_acc = 0\n",
    "\n",
    "    #deactivating dropout layers\n",
    "    model.eval()\n",
    "    \n",
    "    #deactivates autograd\n",
    "    with torch.no_grad():\n",
    "    \n",
    "        for step, batch in enumerate(iterator):\n",
    "\n",
    "            if step % 40 == 0 and not step == 0:\n",
    "               # Calculate elapsed time in minutes.\n",
    "               elapsed = format_time(time() - t0)\n",
    "               # Report progress.\n",
    "               print(' Batch {:>5,} of {:>5,}. Elapsed: {:}.'.format(step, len(iterator), elapsed)) \n",
    "            \n",
    "             # [0]: input ids \n",
    "             # [1]: labels\n",
    "            b_input_ids = batch[0].to(device)\n",
    "            b_labels = batch[1].to(device)\n",
    "            \n",
    "            #convert to 1d tensor\n",
    "            predictions = model(b_input_ids).squeeze()\n",
    "            b_labels = b_labels.type_as(predictions) \n",
    "            \n",
    "            #compute loss and accuracy\n",
    "            loss = criterion(predictions, b_labels)\n",
    "            acc = binary_accuracy(predictions, b_labels)\n",
    "            \n",
    "            #keep track of loss and accuracy\n",
    "            epoch_loss += loss.item()\n",
    "            epoch_acc += acc.item()\n",
    "    print(\"\\nvalidation_epoch_loss: \",epoch_loss/len(iterator),\"\\nValidation_epoch_acc: \",epoch_acc/len(iterator))\n",
    "    return epoch_loss / len(iterator), epoch_acc / len(iterator)"
   ]
  },
  {
   "cell_type": "code",
   "execution_count": 28,
   "metadata": {
    "colab": {},
    "colab_type": "code",
    "id": "VmdqyRGNUFks"
   },
   "outputs": [],
   "source": [
    "def predict(model,iterator):\n",
    "    \n",
    "    model.eval()\n",
    "    preds = torch.FloatTensor().to(device)\n",
    "    labels = torch.FloatTensor().to(device)\n",
    "    with torch.no_grad():\n",
    "    \n",
    "        for step, batch in enumerate(iterator):            \n",
    "             # [0]: input ids \n",
    "             # [1]: labels\n",
    "            b_input_ids = batch[0].to(device)\n",
    "            b_labels = batch[1].to(device)\n",
    "            \n",
    "            #convert to 1d tensor\n",
    "            predictions = model(b_input_ids).squeeze()\n",
    "            b_labels = b_labels.type_as(predictions) \n",
    "            \n",
    "            preds = torch.cat((preds,predictions))\n",
    "            labels = torch.cat((labels,b_labels))\n",
    "\n",
    "    return preds,labels\n",
    "        \n",
    "\n",
    "        "
   ]
  },
  {
   "cell_type": "code",
   "execution_count": 29,
   "metadata": {
    "colab": {},
    "colab_type": "code",
    "id": "uSjpHCHJnCoO"
   },
   "outputs": [],
   "source": [
    "sentences = train_d.samples.values.tolist()\n",
    "labels = train_d.label.values\n",
    "\n",
    "#sentences"
   ]
  },
  {
   "cell_type": "code",
   "execution_count": 30,
   "metadata": {},
   "outputs": [],
   "source": [
    "#help(batch_to_ids)"
   ]
  },
  {
   "cell_type": "code",
   "execution_count": 31,
   "metadata": {
    "colab": {},
    "colab_type": "code",
    "id": "OK_Y30kdqSTW"
   },
   "outputs": [],
   "source": [
    "#input_ids of shape [len(batch), max sentence length, max word length]\n",
    "input_ids = batch_to_ids(sentences)"
   ]
  },
  {
   "cell_type": "code",
   "execution_count": 32,
   "metadata": {
    "colab": {
     "base_uri": "https://localhost:8080/",
     "height": 34
    },
    "colab_type": "code",
    "id": "R9WO-OAgpzU_",
    "outputId": "80b55d8e-e9c6-422c-8f2a-f6b12f0a812b"
   },
   "outputs": [
    {
     "data": {
      "text/plain": [
       "torch.Size([48000, 59, 50])"
      ]
     },
     "execution_count": 32,
     "metadata": {},
     "output_type": "execute_result"
    }
   ],
   "source": [
    "input_ids.shape"
   ]
  },
  {
   "cell_type": "code",
   "execution_count": 33,
   "metadata": {
    "colab": {},
    "colab_type": "code",
    "id": "ruwQJvzjpqTV"
   },
   "outputs": [],
   "source": [
    "from sklearn.model_selection import train_test_split# Use 90% for training and 10% for validation.\n",
    "train_inputs, validation_inputs, train_labels, validation_labels = train_test_split(input_ids, labels, random_state=2, test_size=0.13)"
   ]
  },
  {
   "cell_type": "code",
   "execution_count": 34,
   "metadata": {
    "colab": {
     "base_uri": "https://localhost:8080/",
     "height": 34
    },
    "colab_type": "code",
    "id": "jMt_OZt_uOua",
    "outputId": "cb67c1b1-378c-4a0d-9af2-c24777db69b8"
   },
   "outputs": [
    {
     "data": {
      "text/plain": [
       "torch.Size([41760, 59, 50])"
      ]
     },
     "execution_count": 34,
     "metadata": {},
     "output_type": "execute_result"
    }
   ],
   "source": [
    "train_inputs.shape"
   ]
  },
  {
   "cell_type": "code",
   "execution_count": null,
   "metadata": {
    "colab": {
     "base_uri": "https://localhost:8080/",
     "height": 106
    },
    "colab_type": "code",
    "id": "94A2H962jIRh",
    "outputId": "9694fad3-2489-4408-9c58-53ff296022bd"
   },
   "outputs": [
    {
     "name": "stderr",
     "output_type": "stream",
     "text": [
      "/home/mahmoud/anaconda3/lib/python3.7/site-packages/ipykernel_launcher.py:1: UserWarning: To copy construct from a tensor, it is recommended to use sourceTensor.clone().detach() or sourceTensor.clone().detach().requires_grad_(True), rather than torch.tensor(sourceTensor).\n",
      "  \"\"\"Entry point for launching an IPython kernel.\n"
     ]
    }
   ],
   "source": [
    "train_inputs = torch.tensor(train_inputs)\n",
    "validation_inputs = torch.tensor(validation_inputs)\n",
    "\n",
    "train_labels = torch.tensor(train_labels)\n",
    "validation_labels = torch.tensor(validation_labels)"
   ]
  },
  {
   "cell_type": "code",
   "execution_count": null,
   "metadata": {
    "colab": {},
    "colab_type": "code",
    "id": "kGo6DgbTuxqR"
   },
   "outputs": [],
   "source": [
    "from torch.utils.data import TensorDataset, DataLoader, RandomSampler, SequentialSampler\n",
    "\n",
    "batch_size = 32 \n",
    "\n",
    "\n",
    "#Create the DataLoader for our training set.\n",
    "train_data = TensorDataset(train_inputs, train_labels)\n",
    "train_sampler = RandomSampler(train_data)\n",
    "train_dataloader = DataLoader(train_data, sampler=train_sampler, batch_size=batch_size)\n",
    "\n",
    "\n",
    "# Create the DataLoader for our validation set.\n",
    "validation_data = TensorDataset(validation_inputs, validation_labels)\n",
    "validation_sampler = SequentialSampler(validation_data)\n",
    "validation_dataloader = DataLoader(validation_data, sampler=validation_sampler, batch_size=batch_size)"
   ]
  },
  {
   "cell_type": "code",
   "execution_count": null,
   "metadata": {},
   "outputs": [],
   "source": []
  },
  {
   "cell_type": "markdown",
   "metadata": {},
   "source": [
    "from shutil import copyfile\n",
    "if not os.path.exists(\"model\"):\n",
    "    os.makedirs(\"model\")\n",
    "\n",
    "copyfile(\"/home/mahmoud/Desktop/PFE_Tunisian_Dialect/data/new_corpus/train/pre-trained_elmo/swb/vocab.txt\",\n",
    "         \"model/vocab.txt\")\n",
    "\n",
    "copyfile(\"/home/mahmoud/Desktop/PFE_Tunisian_Dialect/data/new_corpus/train/pre-trained_elmo/swb/checkpoint/options.json\",\n",
    "         \"model/options.json\")\n",
    "\n",
    "copyfile(\"/home/mahmoud/Desktop/PFE_Tunisian_Dialect/data/new_corpus/train/pre-trained_elmo/swb/swb_weights.hdf5\",\n",
    "         \"model/swb_weights.hdf5\")"
   ]
  },
  {
   "cell_type": "markdown",
   "metadata": {},
   "source": [
    "#set n_characters to 262 in options.json\n",
    "a_file = open(\"model/options.json\", \"r\")\n",
    "\n",
    "json_object = json.load(a_file)\n",
    "\n",
    "a_file.close()\n",
    "#print(json_object)\n",
    "json_object[\"char_cnn\"][\"n_characters\"] = 262\n",
    "\n",
    "a_file = open(\"model/options.json\", \"w\")\n",
    "\n",
    "json.dump(json_object, a_file)\n",
    "\n",
    "a_file.close()"
   ]
  },
  {
   "cell_type": "code",
   "execution_count": null,
   "metadata": {
    "colab": {},
    "colab_type": "code",
    "id": "pEGHXQ8SLynU"
   },
   "outputs": [],
   "source": [
    "vocab_file = \"train_vocab.txt\"\n",
    "\n",
    "#parameters of the model\n",
    "options_file = \"model/options.json\"\n",
    "weight_file = \"model/swb_weights.hdf5\"\n",
    "\n",
    "vocab_size = len(sorted_vocab)\n",
    "embedding_dim = 128    #Size of ELMO pretrained embeddings\n",
    "hidden_dim = 32\n",
    "output_dim = 1\n",
    "#n_layers = 1 \n",
    "dropout = 0.6\n",
    "\n",
    "\n"
   ]
  },
  {
   "cell_type": "code",
   "execution_count": null,
   "metadata": {
    "colab": {
     "base_uri": "https://localhost:8080/",
     "height": 972
    },
    "colab_type": "code",
    "id": "oUxQLeFz5Snt",
    "outputId": "ed4acd71-5615-4c1a-eb9b-e72f85277b3a"
   },
   "outputs": [],
   "source": [
    "model = Classifier(vocab_size,embedding_dim,hidden_dim,output_dim,dropout,\n",
    "              options_file,weight_file)\n",
    "\n",
    "model.cuda()"
   ]
  },
  {
   "cell_type": "code",
   "execution_count": null,
   "metadata": {
    "colab": {
     "base_uri": "https://localhost:8080/",
     "height": 52
    },
    "colab_type": "code",
    "id": "crtzI4gVv7u2",
    "outputId": "51a6ee5f-2c65-47fa-98f2-d142ee08e875"
   },
   "outputs": [],
   "source": [
    "print(\"model parameters:\\n\", count_parameters(model))\n",
    "N_trainable_params = count_parameters(model)"
   ]
  },
  {
   "cell_type": "code",
   "execution_count": null,
   "metadata": {
    "colab": {},
    "colab_type": "code",
    "id": "qWKVVHe5Wh7I"
   },
   "outputs": [],
   "source": [
    "from IPython.display import clear_output\n",
    "from torch import optim\n",
    "#check whether cuda is available\n",
    "device = torch.device('cuda' if torch.cuda.is_available() else 'cpu')  \n",
    "\n",
    "optimizer = optim.Adam(model.parameters())\n",
    "criterion = nn.BCELoss()\n",
    "\n",
    "#push to cuda if available\n",
    "model = model.to(device)\n",
    "\n",
    "criterion = criterion.to(device)"
   ]
  },
  {
   "cell_type": "code",
   "execution_count": null,
   "metadata": {
    "colab": {},
    "colab_type": "code",
    "id": "rv-0J-59wZts"
   },
   "outputs": [],
   "source": [
    "import random\n",
    "import numpy as np\n",
    "seed_val = 2\n",
    "random.seed(seed_val)\n",
    "np.random.seed(seed_val)\n",
    "torch.manual_seed(seed_val)\n",
    "torch.cuda.manual_seed_all(seed_val)"
   ]
  },
  {
   "cell_type": "code",
   "execution_count": null,
   "metadata": {
    "colab": {},
    "colab_type": "code",
    "id": "E-7oezU2ydaD"
   },
   "outputs": [],
   "source": [
    "#import time\n",
    "import datetime\n",
    "def format_time(elapsed):\n",
    " '''\n",
    " Takes a time in seconds and returns a string hh:mm:ss\n",
    " '''\n",
    " # Round to the nearest second.\n",
    " elapsed_rounded = int(round((elapsed)))\n",
    "\n",
    " # Format as hh:mm:ss\n",
    " return str(datetime.timedelta(seconds=elapsed_rounded))"
   ]
  },
  {
   "cell_type": "code",
   "execution_count": null,
   "metadata": {
    "colab": {
     "base_uri": "https://localhost:8080/",
     "height": 1000
    },
    "colab_type": "code",
    "id": "MLTBSKjcyLcA",
    "outputId": "b2723884-c401-4a11-adac-237ce3bd8948"
   },
   "outputs": [],
   "source": [
    "epochs = 5\n",
    "t1 = time()\n",
    "\n",
    "loss_values_eval = []\n",
    "acc_values_eval = []\n",
    "\n",
    "loss_values_train = []\n",
    "acc_values_train = []\n",
    "\n",
    "for epoch in range(epochs):\n",
    "  loss_train,acc_train = train(model, train_dataloader, optimizer, criterion)\n",
    "  loss_eval,acc_eval = evaluate(model, validation_dataloader, criterion)\n",
    "    \n",
    "  loss_values_eval.append(loss_eval)\n",
    "  acc_values_eval.append(acc_eval)\n",
    "\n",
    "  loss_values_train.append(loss_train)\n",
    "  acc_values_train.append(acc_train)\n",
    "\n",
    "elapsed = format_time(time()-t1)\n",
    "print(\"elapsed time: \",elapsed)"
   ]
  },
  {
   "cell_type": "code",
   "execution_count": null,
   "metadata": {},
   "outputs": [],
   "source": [
    "loss_values_train"
   ]
  },
  {
   "cell_type": "code",
   "execution_count": null,
   "metadata": {},
   "outputs": [],
   "source": [
    "loss_values_train = np.array(loss_values_train)\n",
    "loss_values_eval = np.array(loss_values_eval)\n",
    "\n",
    "e = range(1,epochs+1)"
   ]
  },
  {
   "cell_type": "code",
   "execution_count": null,
   "metadata": {},
   "outputs": [],
   "source": [
    "import matplotlib.pyplot as plt\n",
    "plt.figure(figsize=(10,7))\n",
    "plt.plot(e, loss_values_train, 'g', label='Training loss')\n",
    "plt.plot(e, loss_values_eval, 'b', label='validation loss')\n",
    "plt.title('Training and Validation loss')\n",
    "plt.xlabel('Epochs')\n",
    "plt.ylabel('Loss')\n",
    "plt.legend()\n",
    "plt.savefig('loss_curve.png')\n",
    "plt.show()"
   ]
  },
  {
   "cell_type": "code",
   "execution_count": null,
   "metadata": {},
   "outputs": [],
   "source": []
  },
  {
   "cell_type": "code",
   "execution_count": null,
   "metadata": {},
   "outputs": [],
   "source": [
    "import plotly.express as px\n",
    "f = pd.DataFrame(loss_values_eval)\n",
    "f.columns=['Loss']\n",
    "fig = px.line(f, x=f.index, y=f.Loss)\n",
    "fig.update_layout(title='Evaluation loss of the Model',xaxis_title='Epoch',yaxis_title='Loss')\n",
    "fig.show()"
   ]
  },
  {
   "cell_type": "code",
   "execution_count": null,
   "metadata": {
    "colab": {},
    "colab_type": "code",
    "id": "jYs8QRzhLMlz"
   },
   "outputs": [],
   "source": [
    "f = pd.DataFrame(acc_values_eval)\n",
    "f.columns=['Accuracy']\n",
    "fig = px.line(f, x=f.index, y=f.Accuracy)\n",
    "fig.update_layout(title='Evaluation accuracy of the Model',xaxis_title='Epoch',yaxis_title='Accuracy')\n",
    "fig.show()"
   ]
  },
  {
   "cell_type": "code",
   "execution_count": null,
   "metadata": {},
   "outputs": [],
   "source": [
    "#####################################################################"
   ]
  },
  {
   "cell_type": "markdown",
   "metadata": {},
   "source": [
    "#SAVE the model weights\n",
    "path = \"model_v3_weights.pt\"\n",
    "torch.save(model.state_dict(), path)\n",
    "torch.save(model, path)\n",
    "#LOAD the model weights\n",
    "#model = TheModelClass(*args, **kwargs)\n",
    "#model.load_state_dict(torch.load(PATH))\n",
    "#model.eval()"
   ]
  },
  {
   "cell_type": "code",
   "execution_count": null,
   "metadata": {},
   "outputs": [],
   "source": []
  },
  {
   "cell_type": "code",
   "execution_count": null,
   "metadata": {},
   "outputs": [],
   "source": [
    "#####################################################################"
   ]
  },
  {
   "cell_type": "code",
   "execution_count": null,
   "metadata": {},
   "outputs": [],
   "source": [
    "#TEST"
   ]
  },
  {
   "cell_type": "markdown",
   "metadata": {},
   "source": [
    "path = \"model_v3_weights.pt\"\n",
    "model.load_state_dict(torch.load(path))\n",
    "model.eval()"
   ]
  },
  {
   "cell_type": "code",
   "execution_count": null,
   "metadata": {
    "colab": {},
    "colab_type": "code",
    "id": "wxAJ8fsBLMwf"
   },
   "outputs": [],
   "source": [
    "test = pd.read_csv(\"test/QADI_test.txt\",header=None,sep='\\t')\n",
    "test.rename({0:\"text\",1:\"label\"},inplace=True,axis=1)\n",
    "test[\"label\"] = test[\"label\"].apply(str)\n",
    "test.head()"
   ]
  },
  {
   "cell_type": "code",
   "execution_count": null,
   "metadata": {},
   "outputs": [],
   "source": [
    "test[\"label\"].value_counts()"
   ]
  },
  {
   "cell_type": "code",
   "execution_count": null,
   "metadata": {},
   "outputs": [],
   "source": [
    "#test.loc[test.label == 'TN','label'] = 1\n",
    "#test.loc[test.label != 'TN','label'] = 0\n",
    "def labeling(label):\n",
    "    if str(label).strip()=='TN':\n",
    "        return 1\n",
    "    else:\n",
    "        return 0\n",
    "    return\n",
    "test[\"label\"] = test[\"label\"].apply(labeling)\n",
    "\n",
    "test[\"label\"].value_counts()"
   ]
  },
  {
   "cell_type": "code",
   "execution_count": null,
   "metadata": {},
   "outputs": [],
   "source": [
    "test_0 = pd.read_csv(\"test/MADAR.corpus26_totestTunis.txt\",header=None,sep=\"\\n\")\n",
    "test_0.rename({0:\"text\"},inplace=True,axis=1)\n",
    "test_0[\"label\"] = 1\n",
    "\n",
    "test = test.append(test_0)\n",
    "test.head(2)"
   ]
  },
  {
   "cell_type": "code",
   "execution_count": null,
   "metadata": {},
   "outputs": [],
   "source": [
    "test[\"text\"] = test[\"text\"].apply(remove_puncts)"
   ]
  },
  {
   "cell_type": "code",
   "execution_count": null,
   "metadata": {},
   "outputs": [],
   "source": [
    "def remove_intruder(text):\n",
    "    puncts = [\"USER\",\"EMOJI\",\"NUM\",\"URL\",\"NEWLINE\"]\n",
    "    for punct in puncts:\n",
    "        if punct in text:\n",
    "            text = text.replace(punct, \"\")\n",
    "    return text\n",
    "\n",
    "test[\"text\"] = test[\"text\"].apply(remove_intruder)\n",
    "test[\"label\"].value_counts()"
   ]
  },
  {
   "cell_type": "code",
   "execution_count": null,
   "metadata": {
    "colab": {
     "base_uri": "https://localhost:8080/",
     "height": 206
    },
    "colab_type": "code",
    "id": "IZW8a91bBp74",
    "outputId": "40bc0d31-d648-479e-a469-f8d759e5d09d"
   },
   "outputs": [],
   "source": [
    "def tokenize(row):\n",
    "    return row.split()\n",
    "\n",
    "test[\"samples\"] = test[\"text\"].apply(tokenize)\n",
    "test[\"label\"] = test[\"label\"].apply(int)\n"
   ]
  },
  {
   "cell_type": "code",
   "execution_count": null,
   "metadata": {
    "colab": {
     "base_uri": "https://localhost:8080/",
     "height": 34
    },
    "colab_type": "code",
    "id": "bhEvWQgIEuMB",
    "outputId": "a8e10985-c95e-42c5-bbbe-7a1a1bed9dad"
   },
   "outputs": [],
   "source": [
    "test = test.sample(frac=1).reset_index(drop=True)\n",
    "test.head()"
   ]
  },
  {
   "cell_type": "code",
   "execution_count": null,
   "metadata": {
    "colab": {},
    "colab_type": "code",
    "id": "HhIMVUqSArJ1"
   },
   "outputs": [],
   "source": [
    "sentences = test.samples.values.tolist()\n",
    "labels = test.label.values"
   ]
  },
  {
   "cell_type": "code",
   "execution_count": null,
   "metadata": {
    "colab": {},
    "colab_type": "code",
    "id": "xw8EGNtKAecb"
   },
   "outputs": [],
   "source": [
    "input_ids = batch_to_ids(sentences)"
   ]
  },
  {
   "cell_type": "code",
   "execution_count": null,
   "metadata": {},
   "outputs": [],
   "source": [
    "input_ids.shape"
   ]
  },
  {
   "cell_type": "code",
   "execution_count": null,
   "metadata": {
    "colab": {
     "base_uri": "https://localhost:8080/",
     "height": 72
    },
    "colab_type": "code",
    "id": "CeDyc6OMCJNT",
    "outputId": "30133b29-57ad-459e-9d24-df6f78f5839d"
   },
   "outputs": [],
   "source": [
    "test_inputs = torch.tensor(input_ids)\n",
    "test_labels = torch.tensor(labels)\n",
    "\n",
    "# Create the DataLoader for our validation set.\n",
    "test_data = TensorDataset(test_inputs, test_labels)\n",
    "test_sampler = SequentialSampler(test_data)\n",
    "test_dataloader = DataLoader(test_data, sampler=test_sampler, batch_size=batch_size)"
   ]
  },
  {
   "cell_type": "code",
   "execution_count": null,
   "metadata": {
    "colab": {},
    "colab_type": "code",
    "id": "wDKjXqOtDhcc"
   },
   "outputs": [],
   "source": [
    "predictions, labels = predict(model,test_dataloader)"
   ]
  },
  {
   "cell_type": "code",
   "execution_count": null,
   "metadata": {},
   "outputs": [],
   "source": [
    "#Converting prababilities to int\n",
    "predictions = (predictions>0.5).int()"
   ]
  },
  {
   "cell_type": "code",
   "execution_count": null,
   "metadata": {},
   "outputs": [],
   "source": [
    "predictions = predictions.cpu()\n",
    "labels = labels.cpu()"
   ]
  },
  {
   "cell_type": "code",
   "execution_count": null,
   "metadata": {
    "colab": {
     "base_uri": "https://localhost:8080/",
     "height": 34
    },
    "colab_type": "code",
    "id": "CWVf4A0HExB3",
    "outputId": "e69547e9-5eae-4bc9-b7c1-6b6ca8d95acd"
   },
   "outputs": [],
   "source": [
    "from sklearn.metrics import classification_report\n",
    "from sklearn.metrics import accuracy_score\n",
    "#print(\"accuracy: \",accuracy_score(labels,predictions))\n",
    "target_names = ['other', 'TN']\n",
    "print(classification_report(labels, predictions, target_names=target_names))"
   ]
  },
  {
   "cell_type": "code",
   "execution_count": null,
   "metadata": {},
   "outputs": [],
   "source": [
    "from sklearn.metrics import confusion_matrix\n",
    "confusion_matrix(labels, predictions)"
   ]
  },
  {
   "cell_type": "code",
   "execution_count": null,
   "metadata": {},
   "outputs": [],
   "source": [
    "accuracy = accuracy_score(labels,predictions)\n",
    "print(accuracy)"
   ]
  },
  {
   "cell_type": "code",
   "execution_count": null,
   "metadata": {},
   "outputs": [],
   "source": [
    "import seaborn as sn\n",
    "import pandas as pd\n",
    "import matplotlib.pyplot as plt\n",
    "\n",
    "array = confusion_matrix(labels, predictions)\n",
    "import numpy as np\n",
    "\n",
    "\n",
    "def plot_confusion_matrix(cm,\n",
    "                          target_names,\n",
    "                          title='Confusion matrix',\n",
    "                          cmap=None,\n",
    "                          normalize=False):\n",
    "    \"\"\"\n",
    "    given a sklearn confusion matrix (cm), make a nice plot\n",
    "\n",
    "    Arguments\n",
    "    ---------\n",
    "    cm:           confusion matrix from sklearn.metrics.confusion_matrix\n",
    "\n",
    "    target_names: given classification classes such as [0, 1, 2]\n",
    "                  the class names, for example: ['high', 'medium', 'low']\n",
    "\n",
    "    title:        the text to display at the top of the matrix\n",
    "\n",
    "    cmap:         the gradient of the values displayed from matplotlib.pyplot.cm\n",
    "                  see http://matplotlib.org/examples/color/colormaps_reference.html\n",
    "                  plt.get_cmap('jet') or plt.cm.Blues\n",
    "\n",
    "    normalize:    If False, plot the raw numbers\n",
    "                  If True, plot the proportions\n",
    "\n",
    "    Usage\n",
    "    -----\n",
    "    plot_confusion_matrix(cm           = cm,                  # confusion matrix created by\n",
    "                                                              # sklearn.metrics.confusion_matrix\n",
    "                          normalize    = True,                # show proportions\n",
    "                          target_names = y_labels_vals,       # list of names of the classes\n",
    "                          title        = best_estimator_name) # title of graph\n",
    "\n",
    "    Citiation\n",
    "    ---------\n",
    "    http://scikit-learn.org/stable/auto_examples/model_selection/plot_confusion_matrix.html\n",
    "\n",
    "    \"\"\"\n",
    "    import matplotlib.pyplot as plt\n",
    "    import numpy as np\n",
    "    import itertools\n",
    "\n",
    "    accuracy = np.trace(cm) / np.sum(cm).astype('float')\n",
    "    misclass = 1 - accuracy\n",
    "\n",
    "    if cmap is None:\n",
    "        cmap = plt.get_cmap('Blues')\n",
    "\n",
    "    plt.figure(figsize=(20, 20))\n",
    "    plt.imshow(cm, interpolation='nearest', cmap=cmap)\n",
    "    plt.title(title)\n",
    "    plt.colorbar()\n",
    "\n",
    "    if target_names is not None:\n",
    "        tick_marks = np.arange(len(target_names))\n",
    "        plt.xticks(tick_marks, target_names, rotation=45)\n",
    "        plt.yticks(tick_marks, target_names)\n",
    "\n",
    "    if normalize:\n",
    "        cm = cm.astype('float') / cm.sum(axis=1)[:, np.newaxis]\n",
    "\n",
    "\n",
    "    thresh = cm.max() / 1.5 if normalize else cm.max() / 2\n",
    "    for i, j in itertools.product(range(cm.shape[0]), range(cm.shape[1])):\n",
    "        if normalize:\n",
    "            plt.text(j, i, \"{:0.4f}\".format(cm[i, j]),\n",
    "                     horizontalalignment=\"center\",\n",
    "                     color=\"white\" if cm[i, j] > thresh else \"black\")\n",
    "        else:\n",
    "            plt.text(j, i, \"{:,}\".format(cm[i, j]),\n",
    "                     horizontalalignment=\"center\",\n",
    "                     color=\"white\" if cm[i, j] > thresh else \"black\")\n",
    "\n",
    "\n",
    "    plt.tight_layout()\n",
    "    plt.ylabel('True label')\n",
    "    plt.xlabel('Predicted label\\naccuracy={:0.4f}; misclass={:0.4f}'.format(accuracy, misclass))\n",
    "    plt.show()"
   ]
  },
  {
   "cell_type": "code",
   "execution_count": null,
   "metadata": {},
   "outputs": [],
   "source": [
    "plot_confusion_matrix(array,[\"other\",\"TD\"])"
   ]
  },
  {
   "cell_type": "markdown",
   "metadata": {},
   "source": [
    "d = {\"Architecture/description\": \"ELMo->Linear->ReLU->Linear->Sigmoid, with ELMo weights trainable\",\n",
    "    \"ELMo_emb_size\":embedding_dim,\n",
    "     \"dropout\": dropout,\n",
    "     \"BATCH_SIZE\": batch_size,\n",
    "     \"epochs\": epochs,\n",
    "     \"accuracy\": accuracy,\n",
    "     \"Trainable_params\": N_trainable_params,\n",
    "     \"Time\": elapsed\n",
    "    }"
   ]
  },
  {
   "cell_type": "markdown",
   "metadata": {},
   "source": [
    "r = pd.read_csv(\"results.csv\")"
   ]
  },
  {
   "cell_type": "markdown",
   "metadata": {},
   "source": [
    "r = r.append(d,ignore_index=True)\n",
    "r.head()"
   ]
  },
  {
   "cell_type": "code",
   "execution_count": 147,
   "metadata": {},
   "outputs": [],
   "source": [
    "r.to_csv(\"results.csv\",index=False)"
   ]
  },
  {
   "cell_type": "code",
   "execution_count": null,
   "metadata": {},
   "outputs": [],
   "source": []
  }
 ],
 "metadata": {
  "accelerator": "GPU",
  "colab": {
   "collapsed_sections": [],
   "name": "Elmo_Classifier.ipynb",
   "provenance": [],
   "toc_visible": true
  },
  "kernelspec": {
   "display_name": "Python 3",
   "language": "python",
   "name": "python3"
  },
  "language_info": {
   "codemirror_mode": {
    "name": "ipython",
    "version": 3
   },
   "file_extension": ".py",
   "mimetype": "text/x-python",
   "name": "python",
   "nbconvert_exporter": "python",
   "pygments_lexer": "ipython3",
   "version": "3.7.3"
  }
 },
 "nbformat": 4,
 "nbformat_minor": 1
}
